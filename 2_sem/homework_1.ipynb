{
 "cells": [
  {
   "cell_type": "markdown",
   "id": "b0e934e7-9c2d-42ed-9e97-331084353b2c",
   "metadata": {},
   "source": [
    "1. Сколькими способами можно распределить два билета в театр между\n",
    "четырьмя людьми?"
   ]
  },
  {
   "cell_type": "code",
   "execution_count": 1,
   "id": "8d838403-d56b-443b-afd1-85adc766180c",
   "metadata": {},
   "outputs": [
    {
     "name": "stdout",
     "output_type": "stream",
     "text": [
      "16\n"
     ]
    }
   ],
   "source": [
    "print(4 ** 2) # Необходимо учитавать, что билеты РАЗНЫЕ объекты (отличается ряд.место). \n",
    "              # Учли, что оба билета могут достаться одному человеку.\n",
    "\n",
    "print(4 * 3) # Если условием не предполагается, что оба билета могут достаться одному человеку."
   ]
  },
  {
   "cell_type": "markdown",
   "id": "dad82db7-7090-41de-8e3b-36e9128a8de7",
   "metadata": {},
   "source": [
    "2. Сколько существует номеров телефона, состоящего из шести различных\n",
    "цифр?"
   ]
  },
  {
   "cell_type": "code",
   "execution_count": 2,
   "id": "2bd0a3cf-555d-471a-a069-87010482a2ab",
   "metadata": {},
   "outputs": [
    {
     "name": "stdout",
     "output_type": "stream",
     "text": [
      "136080\n"
     ]
    }
   ],
   "source": [
    "import math\n",
    "print(9 * math.perm(9, 5)) # Считаем, что первая цифра не может быть 0!"
   ]
  },
  {
   "cell_type": "markdown",
   "id": "2e515005-3de2-47ad-bd9f-68b0b3a1b167",
   "metadata": {},
   "source": [
    "3. Сколькими способами можно отослать 6 писем разным адресам, если их\n",
    "будут разносить 3 курьера?"
   ]
  },
  {
   "cell_type": "code",
   "execution_count": 2,
   "id": "3d57d7e2-1a09-4de7-81b3-b7e4abec3104",
   "metadata": {},
   "outputs": [
    {
     "name": "stdout",
     "output_type": "stream",
     "text": [
      "729\n"
     ]
    }
   ],
   "source": [
    "print(3 ** 6) # Т.к. каждое письмо может быть отправлено одним из 3-х курьеров"
   ]
  },
  {
   "cell_type": "markdown",
   "id": "fda9c845-ae0a-4bd2-b8e2-cc3bc6e05499",
   "metadata": {},
   "source": [
    "4. На тренировках занимается 12 баскетболистов. Сколько может быть\n",
    "составлено тренером различных стартовых пятерок?"
   ]
  },
  {
   "cell_type": "code",
   "execution_count": 5,
   "id": "dd8f6592-2dac-4aa3-a484-37436ebac2cf",
   "metadata": {},
   "outputs": [
    {
     "name": "stdout",
     "output_type": "stream",
     "text": [
      "792\n"
     ]
    }
   ],
   "source": [
    "print(math.comb(12, 5))"
   ]
  },
  {
   "cell_type": "markdown",
   "id": "6500c680-7c99-4bed-865f-157c7ac860a5",
   "metadata": {},
   "source": [
    "5. В гастрономе имеются конфеты в коробках 3-х сортов. Сколькими\n",
    "способами можно заказать 5 коробок?"
   ]
  },
  {
   "cell_type": "code",
   "execution_count": null,
   "id": "ded18d56-f133-442f-a223-34a0224e50c2",
   "metadata": {},
   "outputs": [],
   "source": [
    "import scipy.special as sc\n",
    "print(sc.comb(3, 5, repetition=True))"
   ]
  },
  {
   "cell_type": "markdown",
   "id": "a63a9dfc-ad1b-44e0-a11d-c4cf75b4e8cd",
   "metadata": {},
   "source": [
    "Смоделировать на Python бросание n раз 10 монет."
   ]
  },
  {
   "cell_type": "code",
   "execution_count": null,
   "id": "1a5e8c8e-33f7-4a42-bb5c-1335ec3a76aa",
   "metadata": {},
   "outputs": [],
   "source": [
    "# Вероятно, задачу можно понять по-разному. Ниже представлен алгоритм для следующего условия: \n",
    "# необходимо для КАЖДОЙ из 10-ти монет определить, количество выпавших орлов и решек за n бросков.\n",
    "\n",
    "import numpy as np\n",
    "import matplotlib.pyplot as plt\n",
    "\n",
    "\n",
    "def coins(n):\n",
    "    values_list = [list(np.random.randint(1, 3, size=n)) for _ in range(10)]\n",
    "    heads_count = [values.count(1) for values in values_list]  # Количество орлов для каждой монеты\n",
    "    tails_count = [values.count(2) for values in values_list]  # Количество решек для каждой монеты\n",
    "\n",
    "    x = range(1, 11)  # Номера монет\n",
    "    width = 0.4  # Ширина столбца\n",
    "    plt.bar(x, heads_count, width=width, label='Орел', color='orange')\n",
    "    plt.bar([i + width for i in x], tails_count, width=width, label='Решка', color='blue')\n",
    "    plt.xlabel('Номер монеты')\n",
    "    plt.ylabel('Количество раз')\n",
    "    plt.title(f'Подбрасывание 10-ти монет {n} раз')\n",
    "    plt.legend()\n",
    "    plt.show()\n",
    "\n",
    "\n",
    "coins(10000)"
   ]
  },
  {
   "cell_type": "markdown",
   "id": "d41817f1-e598-46bc-97fe-9993a3f29964",
   "metadata": {},
   "source": [
    "Любую из задач смоделировать на Python."
   ]
  },
  {
   "cell_type": "code",
   "execution_count": null,
   "id": "83dff311-2913-4a4c-9c80-199254822153",
   "metadata": {},
   "outputs": [],
   "source": [
    "# Не совсем понятно, что можно смоделировать в данных задачах, поэтому просто выведем количесвто способов\n",
    "# по распределению билетов (считаем, что одному человеку два билета не нужно).\n",
    "\n",
    "import matplotlib.pyplot as plt\n",
    "import math\n",
    "\n",
    "# Рассчитываем количество способов\n",
    "ways = math.comb(4, 2)\n",
    "\n",
    "# Строим столбчатую диаграмму\n",
    "plt.bar(1, ways, color='green')\n",
    "plt.xticks([1], ['Возможные способы'])\n",
    "plt.ylabel('Количество способов')\n",
    "plt.title('Распределение 2 билетов между 4 людьми')\n",
    "plt.show()"
   ]
  }
 ],
 "metadata": {
  "kernelspec": {
   "display_name": "Python 3 (ipykernel)",
   "language": "python",
   "name": "python3"
  },
  "language_info": {
   "codemirror_mode": {
    "name": "ipython",
    "version": 3
   },
   "file_extension": ".py",
   "mimetype": "text/x-python",
   "name": "python",
   "nbconvert_exporter": "python",
   "pygments_lexer": "ipython3",
   "version": "3.10.6"
  }
 },
 "nbformat": 4,
 "nbformat_minor": 5
}
