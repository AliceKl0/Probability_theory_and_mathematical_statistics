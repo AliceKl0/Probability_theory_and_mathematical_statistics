{
 "cells": [
  {
   "cell_type": "markdown",
   "id": "a80cb8b9-7add-47f5-8840-4f48fb44deb1",
   "metadata": {},
   "source": [
    "1. В лифт девятиэтажного дома на первом этаже вошли четыре человека. Считая, что \n",
    "каждый из них с равной возможностью, независимо о других, может выйти из лифта на \n",
    "любом этаже, начиная со второго, найти вероятность того, что все пассажиры выйдут \n",
    "из лифта: а) на одном этаже; б) на разных этажах."
   ]
  },
  {
   "cell_type": "code",
   "execution_count": 6,
   "id": "3fa55a39-5e21-4adc-81fb-f08daefcd6cd",
   "metadata": {},
   "outputs": [
    {
     "name": "stdout",
     "output_type": "stream",
     "text": [
      "0.001953125\n",
      "0.41015625\n"
     ]
    }
   ],
   "source": [
    "n = 8**4\n",
    "\n",
    "# a)\n",
    "m = 8\n",
    "\n",
    "print(m/n)\n",
    "\n",
    "# б)\n",
    "m = 8*7*6*5\n",
    "\n",
    "print(m / n)"
   ]
  },
  {
   "cell_type": "markdown",
   "id": "9591a0aa-c257-4b29-9436-679019ff3b0f",
   "metadata": {},
   "source": [
    "2. Из колоды, содержащей 36 карт, наудачу без возвращения извлекают шесть карт. \n",
    "Какова вероятность того, что среди извлечённых карт окажется не менее чем два туза?"
   ]
  },
  {
   "cell_type": "code",
   "execution_count": null,
   "id": "6d58243d-26dc-4a1c-bc7c-18b0822db747",
   "metadata": {},
   "outputs": [],
   "source": [
    "from math import *\n",
    "import random\n",
    "import matplotlib.pyplot as plt\n",
    "\n",
    "n = comb(36, 6)\n",
    "m = comb(4, 2) * comb(32, 4) + comb(4, 3) * comb(32, 3) + comb(4, 4) * comb(32, 2)  # вытащили 2 туза и 4 других карты,\n",
    "# вытащили 3 туза и 3 других карты,\n",
    "# вытащили 4 туза и 2 других карты,\n",
    "\n",
    "print(m / n)\n",
    "\n",
    "\n",
    "def two_or_more_T(choice_):\n",
    "    T = 0\n",
    "\n",
    "    for card in choice_:\n",
    "        if card == 'Т':\n",
    "            T += 1\n",
    "\n",
    "    return T >= 2\n",
    "\n",
    "\n",
    "def check(n):\n",
    "    m = 0\n",
    "    deck = ['6', '7', '8', '9', '10', 'В', 'Д', 'К', 'Т'] * 4\n",
    "\n",
    "    for _ in range(n):\n",
    "        choice_ = random.sample(deck, 6)\n",
    "        if two_or_more_T(choice_):\n",
    "            m += 1\n",
    "\n",
    "    p = m / n\n",
    "\n",
    "    return p\n",
    "\n",
    "\n",
    "N = 1000\n",
    "\n",
    "print(check(N))\n",
    "\n",
    "\n",
    "def plot_stat_probability(N):\n",
    "    x = list(range(1, N + 1))\n",
    "    y = [check(num) for num in x]\n",
    "    plt.plot(x, y, color='r')\n",
    "    plt.xlabel('Количество испытаний')\n",
    "    plt.ylabel('Вероятность')\n",
    "    plt.title('Статистическая вероятность двух и более тузов')\n",
    "    plt.ylim(0, 1)\n",
    "    plt.grid(True)\n",
    "    plt.show()\n",
    "\n",
    "\n",
    "plot_stat_probability(N)"
   ]
  },
  {
   "cell_type": "markdown",
   "id": "fdafc1af-f636-4bcc-898c-2576f0af9be7",
   "metadata": {},
   "source": [
    "3. Друзья (N – человек) наудачу рассаживаются за круглым столом. Найти вероятности \n",
    "наступления следующего события: «два лица А и В сидят рядом»."
   ]
  },
  {
   "cell_type": "code",
   "execution_count": 3,
   "id": "421ca0ef-05e7-48f4-87a8-2c42f8b0640d",
   "metadata": {},
   "outputs": [
    {
     "name": "stdout",
     "output_type": "stream",
     "text": [
      "2/(N-1)\n"
     ]
    }
   ],
   "source": [
    "# Пусть A сел на любое место, тогда для B останется два \"благоприятных\" варианта\n",
    "# m = 2\n",
    "# n = N - 1\n",
    "print(\"2/(N-1)\")"
   ]
  },
  {
   "cell_type": "markdown",
   "id": "49244e92-e2da-436d-a54f-8351f0dcd5f1",
   "metadata": {},
   "source": [
    "4. Среди десяти лотерейных билетов – два выигрышных. Определить вероятность того, \n",
    "что среди наудачу взятых пяти билетов: а) будет только один выигрышный; б) будут \n",
    "оба выигрышных; в) не будет ни одного выигрышного; г) будет хотя бы один \n",
    "выигрышный."
   ]
  },
  {
   "cell_type": "code",
   "execution_count": 7,
   "id": "e465c79a-0c97-4047-a590-dc43730042f7",
   "metadata": {},
   "outputs": [
    {
     "name": "stdout",
     "output_type": "stream",
     "text": [
      "0.5555555555555556\n",
      "0.2222222222222222\n",
      "0.2222222222222222\n",
      "0.7777777777777778\n"
     ]
    }
   ],
   "source": [
    "from math import *\n",
    "\n",
    "n = comb(10, 5)\n",
    "\n",
    "# а)\n",
    "m = comb(2, 1) * comb(8, 4)\n",
    "\n",
    "print(m / n)\n",
    "\n",
    "# б)\n",
    "m = comb(2, 2) * comb(8, 3)\n",
    "\n",
    "print(m / n)\n",
    "\n",
    "# в)\n",
    "m = comb(8, 5)\n",
    "\n",
    "print(m / n)\n",
    "\n",
    "# в)\n",
    "print(1 - m / n) # противоположно вероятности \"не будет ни одного выигрышного\" из пункта в)"
   ]
  },
  {
   "cell_type": "markdown",
   "id": "66a0dd0c-af3d-49f9-ad88-b167614b4fce",
   "metadata": {},
   "source": [
    "5. Студент успел выучить 20 из 25 вопросов программы. Зачёт считается сданным, если \n",
    "студент ответит не менее чем на три из четырёх предложенных вопросов программы. \n",
    "Какова вероятность того, что студент сдаст зачёт?"
   ]
  },
  {
   "cell_type": "code",
   "execution_count": 8,
   "id": "5b9abe9d-ff77-4c1c-8bc8-1d20a8031daa",
   "metadata": {},
   "outputs": [
    {
     "name": "stdout",
     "output_type": "stream",
     "text": [
      "0.833596837944664\n"
     ]
    }
   ],
   "source": [
    "from math import *\n",
    "import random\n",
    "\n",
    "n = comb(25, 4)\n",
    "m = comb(20, 3) * comb(5, 1) + comb(20, 4) * comb(5, 0)\n",
    "\n",
    "print(m / n)"
   ]
  }
 ],
 "metadata": {
  "kernelspec": {
   "display_name": "Python 3 (ipykernel)",
   "language": "python",
   "name": "python3"
  },
  "language_info": {
   "codemirror_mode": {
    "name": "ipython",
    "version": 3
   },
   "file_extension": ".py",
   "mimetype": "text/x-python",
   "name": "python",
   "nbconvert_exporter": "python",
   "pygments_lexer": "ipython3",
   "version": "3.10.6"
  }
 },
 "nbformat": 4,
 "nbformat_minor": 5
}
