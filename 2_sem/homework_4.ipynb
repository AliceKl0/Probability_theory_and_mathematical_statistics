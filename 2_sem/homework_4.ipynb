{
 "cells": [
  {
   "cell_type": "markdown",
   "id": "c6b1be7b-a797-4674-8de5-ff9ceb2156db",
   "metadata": {},
   "source": [
    "1. В урне 4 красных, 6 зелёных и 5 синих шаров. Одновременно вынимают два\n",
    "шара. Найти вероятность того, что оба шара одного (любого) цвета."
   ]
  },
  {
   "cell_type": "code",
   "execution_count": 5,
   "id": "d3f3e0b2-1317-45e1-a06b-0c1248087628",
   "metadata": {},
   "outputs": [
    {
     "name": "stdout",
     "output_type": "stream",
     "text": [
      "0.29523809523809524\n"
     ]
    }
   ],
   "source": [
    "import math as mth\n",
    "\n",
    "p = (mth.comb(4, 2) + mth.comb(6, 2) + mth.comb(5, 2)) / mth.comb(15, 2)\n",
    "print(p)"
   ]
  },
  {
   "cell_type": "markdown",
   "id": "1fd83076-8c0d-468c-99d5-b6fa7b5a46d8",
   "metadata": {},
   "source": [
    "2. В выпуклом n-угольнике случайным образом выбирают две вершины и\n",
    "соединяют их отрезком. Чему равна вероятность того, что построенный отрезок\n",
    "является диагональю n-угольника?"
   ]
  },
  {
   "cell_type": "code",
   "execution_count": 1,
   "id": "8192f092-5312-4fe5-be40-9c89c5a5e6d6",
   "metadata": {},
   "outputs": [
    {
     "name": "stdout",
     "output_type": "stream",
     "text": [
      "(n - 3)/(n - 1)\n"
     ]
    }
   ],
   "source": [
    "print(\"(n - 3)/(n - 1)\") \n",
    "# В числителе: кол-во вершин, с которыми можно соединить выбранную вершину (без учёта смежных вершин)\n",
    "# В знаменателе: кол-во вершин, с которыми можно соединить выбранную вершину (уже с учётом смежных вершин)"
   ]
  },
  {
   "cell_type": "markdown",
   "id": "7ae7af4a-b33b-4588-90b8-efe21018a5c1",
   "metadata": {},
   "source": [
    "3. 5 мужчин и 5 женщин случайным образом рассаживаются в ряд на 10 мест.\n",
    "Найти вероятности следующих событий: A – любые две женщины не сидят рядом;\n",
    "B – все мужчины сидят рядом."
   ]
  },
  {
   "cell_type": "code",
   "execution_count": null,
   "id": "1f96ce92-31e5-42d5-b687-00c56c7a5da2",
   "metadata": {},
   "outputs": [],
   "source": [
    "import scipy.special as sc\n",
    "\n",
    "\n",
    "# A)\n",
    "p_1 = 2 * sc.factorial(5) * sc.factorial(5) / sc.factorial(10)\n",
    "# В числителе: если женщины не сидят рядом => женщины и мужчины сидят через одного (по 5 возможных мест на всех 5 мужчин и 5 женщин); \n",
    "#              умножаем на 2, т.к. ряд можно \"перевернуть\" (сделать аналогичную рассадку зеркально)\n",
    "\n",
    "# B)\n",
    "p_2 = 6 * sc.factorial(5) * sc.factorial(5) / sc.factorial(10)\n",
    "# В числителе: если все мужчины сидт рядом => (по аналогии с предыдущей задачей) разместили мужчин 5! способами между собой, \n",
    "#              разместим женщин 5! способами на оставшихся местах; \n",
    "#              умножаем на 6, т.к. группу из 5-ти мужчин относительно 5-ти женщин можно разместить 6-тью способами"
   ]
  },
  {
   "cell_type": "markdown",
   "id": "bffaab51-0e81-41ae-ba3d-76865db1f822",
   "metadata": {},
   "source": [
    "4. Для уменьшения общего количества игр 10 команд случайным образом разбиты\n",
    "на две равные подгруппы. Определить вероятность того, что две наиболее сильные\n",
    "команды окажутся в одной подгруппе."
   ]
  },
  {
   "cell_type": "code",
   "execution_count": 4,
   "id": "c35b8348-7a2b-4df1-aa76-f81e3522ea35",
   "metadata": {},
   "outputs": [
    {
     "name": "stdout",
     "output_type": "stream",
     "text": [
      "0.2222222222222222\n"
     ]
    }
   ],
   "source": [
    "import math as mth\n",
    "\n",
    "p = mth.comb(8, 3) * mth.comb(5, 5) / mth.comb(10, 5)\n",
    "\n",
    "print(p)"
   ]
  },
  {
   "cell_type": "markdown",
   "id": "0d118026-42ec-498e-a893-55888a1294e4",
   "metadata": {},
   "source": [
    "5. Корзина содержит 23 шара: 8 белых, 6 синих и 9 красных. На каждом шаге из\n",
    "корзины «наудачу» извлекается шар и назад в корзину не возвращается. Исход n\n",
    "последовательных извлечений называется выборкой объема n без возвращения или\n",
    "бесповторной выборкой. Из корзины наудачу (без возвращения) извлечены 6\n",
    "шаров. Найти вероятности следующих событий и доказать их статистическую\n",
    "устойчивость:\n",
    "\n",
    "a) A = {все шары красные};\n",
    "\n",
    "б) B = {3 синих, 2 белых и 1 красный};\n",
    "\n",
    "в) D = {в точности 4 белых шара}.\n",
    "\n",
    "Разобрать случай извлечения шаров с возвращением. "
   ]
  },
  {
   "cell_type": "code",
   "execution_count": 5,
   "id": "f6a9c201-17fd-47c1-978b-0c8bbe68e08e",
   "metadata": {},
   "outputs": [
    {
     "name": "stdout",
     "output_type": "stream",
     "text": [
      "0.0008321198252548367\n"
     ]
    }
   ],
   "source": [
    "# а)\n",
    "\n",
    "import math as mth\n",
    "\n",
    "p_1 = mth.comb(9, 6) / mth.comb(23, 6)\n",
    "\n",
    "print(p_1)"
   ]
  },
  {
   "cell_type": "code",
   "execution_count": 14,
   "id": "2283719e-f390-47f4-9e61-f8c3420e475c",
   "metadata": {},
   "outputs": [
    {
     "name": "stdout",
     "output_type": "stream",
     "text": [
      "0.0008\n"
     ]
    }
   ],
   "source": [
    "import random\n",
    "\n",
    "def lot(N):\n",
    "    M = 0\n",
    "    l = ['w'] * 8 + ['b'] * 6 + ['r'] * 9\n",
    "    \n",
    "    for i in range(N):\n",
    "        s = random.sample(l, 6)\n",
    "        \n",
    "        if s.count('r') == 6:\n",
    "            M += 1\n",
    "    \n",
    "    return M / N\n",
    "\n",
    "print(lot(10000))"
   ]
  },
  {
   "cell_type": "code",
   "execution_count": null,
   "id": "d65ae036-35d5-496f-a92b-362ef3d1efb2",
   "metadata": {},
   "outputs": [],
   "source": [
    "import matplotlib.pyplot as plt\n",
    "\n",
    "def plot_(n):\n",
    "    x = [i for i in range(1, n + 1)]\n",
    "    y = [lot(num) for num in x]\n",
    "    plt.plot(x, y, color = 'b')\n",
    "    plt.xlabel('Количество испытаний')\n",
    "    plt.ylabel('Вероятность события')\n",
    "    plt.grid()\n",
    "    plt.plot(x, [p_1] * len(x), color = 'r')\n",
    "    plt.title('Статистическая вероятность события A = {все шары красные}')\n",
    "    plt.show()\n",
    "\n",
    "\n",
    "plot_(1000)"
   ]
  },
  {
   "cell_type": "code",
   "execution_count": 16,
   "id": "74c46a7a-cb6f-4bd9-b06b-ec3829cbd302",
   "metadata": {},
   "outputs": [
    {
     "name": "stdout",
     "output_type": "stream",
     "text": [
      "0.0499271895152902\n"
     ]
    }
   ],
   "source": [
    "# б)\n",
    "\n",
    "import math as mth\n",
    "\n",
    "p_2 = (mth.comb(6, 3) * mth.comb(8, 2) * mth.comb(9, 1)) / mth.comb(23, 6)\n",
    "\n",
    "print(p_2)"
   ]
  },
  {
   "cell_type": "code",
   "execution_count": 17,
   "id": "86144a3c-57e5-4699-82a0-815de5706573",
   "metadata": {},
   "outputs": [
    {
     "name": "stdout",
     "output_type": "stream",
     "text": [
      "0.0506\n"
     ]
    }
   ],
   "source": [
    "import random\n",
    "\n",
    "def lot(N):\n",
    "    M = 0\n",
    "    l = ['w'] * 8 + ['b'] * 6 + ['r'] * 9\n",
    "    \n",
    "    for i in range(N):\n",
    "        s = random.sample(l, 6)\n",
    "        \n",
    "        if s.count('b') == 3 and s.count('w') == 2 and s.count('r') == 1:\n",
    "            M += 1\n",
    "    \n",
    "    return M / N\n",
    "\n",
    "print(lot(10000))"
   ]
  },
  {
   "cell_type": "code",
   "execution_count": null,
   "id": "95e91b6a-3d6e-4c26-9908-10789ad1c3cc",
   "metadata": {},
   "outputs": [],
   "source": [
    "import matplotlib.pyplot as plt\n",
    "\n",
    "def plot_(n):\n",
    "    x = [i for i in range(1, n + 1)]\n",
    "    y = [lot(num) for num in x]\n",
    "    plt.plot(x, y, color = 'b')\n",
    "    plt.xlabel('Количество испытаний')\n",
    "    plt.ylabel('Вероятность события')\n",
    "    plt.grid()\n",
    "    plt.plot(x, [p_2] * len(x), color = 'r')\n",
    "    plt.title('Статистическая вероятность события B = {3 синих, 2 белых и 1 красный}')\n",
    "    plt.show()\n",
    "\n",
    "\n",
    "plot_(1000)"
   ]
  },
  {
   "cell_type": "code",
   "execution_count": 18,
   "id": "818fe223-108f-4e22-ac3e-a64c10296868",
   "metadata": {},
   "outputs": [
    {
     "name": "stdout",
     "output_type": "stream",
     "text": [
      "0.07281048470979821\n"
     ]
    }
   ],
   "source": [
    "# в)\n",
    "\n",
    "import math as mth\n",
    "\n",
    "p_3 = (mth.comb(8, 4) * mth.comb(15, 2))  / mth.comb(23, 6)\n",
    "\n",
    "print(p_3)"
   ]
  },
  {
   "cell_type": "code",
   "execution_count": 19,
   "id": "73d91b30-edfd-4b5c-a256-5c76903d1705",
   "metadata": {},
   "outputs": [
    {
     "name": "stdout",
     "output_type": "stream",
     "text": [
      "0.0684\n"
     ]
    }
   ],
   "source": [
    "import random\n",
    "\n",
    "def lot(N):\n",
    "    M = 0\n",
    "    l = ['w'] * 8 + ['b'] * 6 + ['r'] * 9\n",
    "    \n",
    "    for i in range(N):\n",
    "        s = random.sample(l, 6)\n",
    "        \n",
    "        if s.count('w') == 4:\n",
    "            M += 1\n",
    "    \n",
    "    return M / N\n",
    "\n",
    "print(lot(10000))"
   ]
  },
  {
   "cell_type": "code",
   "execution_count": null,
   "id": "3dd9c82d-8af5-4c03-97db-c4b91d19fad4",
   "metadata": {},
   "outputs": [],
   "source": [
    "import matplotlib.pyplot as plt\n",
    "\n",
    "def plot_(n):\n",
    "    x = [i for i in range(1, n + 1)]\n",
    "    y = [lot(num) for num in x]\n",
    "    plt.plot(x, y, color = 'b')\n",
    "    plt.xlabel('Количество испытаний')\n",
    "    plt.ylabel('Вероятность события')\n",
    "    plt.grid()\n",
    "    plt.plot(x, [p_3] * len(x), color = 'r')\n",
    "    plt.title('Статистическая вероятность события D = {в точности 4 белых шара}')\n",
    "    plt.show()\n",
    "\n",
    "\n",
    "plot_(1000)"
   ]
  },
  {
   "cell_type": "code",
   "execution_count": 21,
   "id": "c058e4fd-e138-46df-9cd9-8565cedb58ff",
   "metadata": {},
   "outputs": [
    {
     "name": "stdout",
     "output_type": "stream",
     "text": [
      "0.0035899470296692727\n"
     ]
    }
   ],
   "source": [
    "# А теперь с возвращением шаров\n",
    "\n",
    "# а)\n",
    "\n",
    "import math as mth\n",
    "\n",
    "p_11 = (9 / 23) ** 6\n",
    "\n",
    "print(p_11)"
   ]
  },
  {
   "cell_type": "code",
   "execution_count": 23,
   "id": "7d9557e8-a276-40b9-9099-afc0876f5659",
   "metadata": {},
   "outputs": [
    {
     "name": "stdout",
     "output_type": "stream",
     "text": [
      "0.0032\n"
     ]
    }
   ],
   "source": [
    "import random\n",
    "\n",
    "def lot(N):\n",
    "    M = 0\n",
    "    l = ['w'] * 8 + ['b'] * 6 + ['r'] * 9\n",
    "\n",
    "    for i in range(N):\n",
    "        s = ''\n",
    "        \n",
    "        for j in range(6):\n",
    "            s += str(random.sample(l, 1))\n",
    "\n",
    "        if s.count('r') == 6:\n",
    "            M += 1\n",
    "\n",
    "    return M / N\n",
    "\n",
    "\n",
    "print(lot(10000))"
   ]
  },
  {
   "cell_type": "code",
   "execution_count": null,
   "id": "5c5e168c-bb7e-4ee8-a4f1-e9eda483bc5d",
   "metadata": {},
   "outputs": [],
   "source": [
    "import matplotlib.pyplot as plt\n",
    "\n",
    "def plot_(n):\n",
    "    x = [i for i in range(1, n + 1)]\n",
    "    y = [lot(num) for num in x]\n",
    "    plt.plot(x, y, color = 'b')\n",
    "    plt.xlabel('Количество испытаний')\n",
    "    plt.ylabel('Вероятность события')\n",
    "    plt.grid()\n",
    "    plt.plot(x, [p_11] * len(x), color = 'r')\n",
    "    plt.title('Статистическая вероятность события A = {все шары красные}')\n",
    "    plt.show()\n",
    "\n",
    "\n",
    "plot_(1000)"
   ]
  },
  {
   "cell_type": "code",
   "execution_count": null,
   "id": "cace9198-d174-45e0-89c3-babcd7d938e8",
   "metadata": {},
   "outputs": [],
   "source": [
    "# А теперь с возвращением шаров\n",
    "\n",
    "# б)\n",
    "\n",
    "import scipy.special as sc\n",
    "\n",
    "p_22 = sc.comb(6, 3, repetition=True) * sc.comb(8, 2, repetition=True) * sc.comb(9, 1, repetition=True) / sc.comb(23, 6, repetition=True)\n",
    "\n",
    "print(p_22)"
   ]
  },
  {
   "cell_type": "code",
   "execution_count": 29,
   "id": "53eda6e4-b32b-4396-a8ef-d7229ec2e8be",
   "metadata": {},
   "outputs": [
    {
     "name": "stdout",
     "output_type": "stream",
     "text": [
      "0.0499\n"
     ]
    }
   ],
   "source": [
    "import random\n",
    "\n",
    "def lot(N):\n",
    "    M = 0\n",
    "    l = ['w'] * 8 + ['b'] * 6 + ['r'] * 9\n",
    "\n",
    "    for i in range(N):\n",
    "        s = ''\n",
    "\n",
    "        for j in range(6):\n",
    "            s += str(random.sample(l, 1))\n",
    "\n",
    "        if s.count('b') == 3 and s.count('w') == 2 and s.count('r') == 1:\n",
    "            M += 1\n",
    "\n",
    "    return M / N\n",
    "\n",
    "\n",
    "print(lot(10000))"
   ]
  },
  {
   "cell_type": "code",
   "execution_count": null,
   "id": "47e65541-b1e5-4b33-81e2-bf4c628bfb0a",
   "metadata": {},
   "outputs": [],
   "source": [
    "import matplotlib.pyplot as plt\n",
    "\n",
    "def plot_(n):\n",
    "    x = [i for i in range(1, n + 1)]\n",
    "    y = [lot(num) for num in x]\n",
    "    plt.plot(x, y, color = 'b')\n",
    "    plt.xlabel('Количество испытаний')\n",
    "    plt.ylabel('Вероятность события')\n",
    "    plt.grid()\n",
    "    plt.plot(x, [p_22] * len(x), color = 'r')\n",
    "    plt.title('Статистическая вероятность события B = {3 синих, 2 белых и 1 красный}')\n",
    "    plt.show()\n",
    "\n",
    "\n",
    "plot_(1000)"
   ]
  },
  {
   "cell_type": "code",
   "execution_count": null,
   "id": "65dfd100-5f47-4a1b-bfc7-f7480538ab8d",
   "metadata": {},
   "outputs": [],
   "source": [
    "# А теперь с возвращением шаров\n",
    "\n",
    "# в)\n",
    "\n",
    "import scipy.special as sc\n",
    "\n",
    "p_33 = sc.comb(8, 4, repetition=True) * sc.comb(15, 2, repetition=True) / sc.comb(23, 6, repetition=True)\n",
    "\n",
    "print(p_33)"
   ]
  },
  {
   "cell_type": "code",
   "execution_count": 30,
   "id": "f831ebb9-093a-442e-a251-a66b0904fd0e",
   "metadata": {},
   "outputs": [
    {
     "name": "stdout",
     "output_type": "stream",
     "text": [
      "0.0928\n"
     ]
    }
   ],
   "source": [
    "import random\n",
    "\n",
    "def lot(N):\n",
    "    M = 0\n",
    "    l = ['w'] * 8 + ['b'] * 6 + ['r'] * 9\n",
    "\n",
    "    for i in range(N):\n",
    "        s = ''\n",
    "\n",
    "        for j in range(6):\n",
    "            s += str(random.sample(l, 1))\n",
    "\n",
    "        if s.count('w') == 4:\n",
    "            M += 1\n",
    "\n",
    "    return M / N\n",
    "\n",
    "\n",
    "print(lot(10000))"
   ]
  },
  {
   "cell_type": "code",
   "execution_count": null,
   "id": "74096ff2-0f6b-4b9e-b583-4e21011de5a9",
   "metadata": {},
   "outputs": [],
   "source": [
    "import matplotlib.pyplot as plt\n",
    "\n",
    "def plot_(n):\n",
    "    x = [i for i in range(1, n + 1)]\n",
    "    y = [lot(num) for num in x]\n",
    "    plt.plot(x, y, color = 'b')\n",
    "    plt.xlabel('Количество испытаний')\n",
    "    plt.ylabel('Вероятность события')\n",
    "    plt.grid()\n",
    "    plt.plot(x, [p_33] * len(x), color = 'r')\n",
    "    plt.title('Статистическая вероятность события D = {в точности 4 белых шара}')\n",
    "    plt.show()\n",
    "\n",
    "\n",
    "plot_(1000)"
   ]
  },
  {
   "cell_type": "markdown",
   "id": "d0cef976-adfd-4f89-872a-93e6038453d7",
   "metadata": {},
   "source": [
    "6. Бросают 4 одинаковые игральные кости. Вычислить вероятность события C – на\n",
    "2 костях выпадет по 6 очков."
   ]
  },
  {
   "cell_type": "code",
   "execution_count": 34,
   "id": "b0322d26-181f-4768-8154-43b8688e873b",
   "metadata": {},
   "outputs": [
    {
     "name": "stdout",
     "output_type": "stream",
     "text": [
      "0.027777777777777776\n",
      "0.019290123456790126\n"
     ]
    }
   ],
   "source": [
    "# Задачу можно воспринять по-разному...\n",
    "\n",
    "# 1. На двух костях точно выпадает 6, но на остальных двух тоже могут быть 6-ки:\n",
    "\n",
    "p_1 = ((1 / 6) ** 2) * ((6 / 6) ** 2) \n",
    "print(p_1)\n",
    "\n",
    "# 2. На двух костях точно выпадает 6, но на остальных двух 6-ки быть не могут:\n",
    "\n",
    "p_2 = ((1 / 6) ** 2) * ((5 / 6) ** 2) \n",
    "print(p_2)"
   ]
  }
 ],
 "metadata": {
  "kernelspec": {
   "display_name": "Python 3 (ipykernel)",
   "language": "python",
   "name": "python3"
  },
  "language_info": {
   "codemirror_mode": {
    "name": "ipython",
    "version": 3
   },
   "file_extension": ".py",
   "mimetype": "text/x-python",
   "name": "python",
   "nbconvert_exporter": "python",
   "pygments_lexer": "ipython3",
   "version": "3.10.6"
  }
 },
 "nbformat": 4,
 "nbformat_minor": 5
}
