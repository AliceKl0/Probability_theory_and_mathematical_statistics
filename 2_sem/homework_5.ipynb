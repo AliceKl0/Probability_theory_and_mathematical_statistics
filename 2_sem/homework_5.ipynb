{
 "cells": [
  {
   "cell_type": "markdown",
   "id": "0d3ce34e-f365-4aea-af28-7f6637017644",
   "metadata": {},
   "source": [
    "4. Написаны n писем, но адреса на конвертах написаны наудачу. Какова\n",
    "вероятность того, что m адресатов получат соответствующие письма? Решить\n",
    "задачу для n = 8 и m = 3, а затем и в общем случае. Также найдите соответствующую\n",
    "статистическую вероятность и постройте график зависимости относительной\n",
    "частоты от числа экспериментов N."
   ]
  },
  {
   "cell_type": "code",
   "execution_count": 20,
   "id": "f98ea8e2-8b14-4c09-b06c-9b11fcbd0b6c",
   "metadata": {},
   "outputs": [
    {
     "name": "stdout",
     "output_type": "stream",
     "text": [
      "0.061\n"
     ]
    }
   ],
   "source": [
    "import matplotlib.pyplot as plt\n",
    "import itertools\n",
    "import random\n",
    "\n",
    "\n",
    "def lot(N):\n",
    "    letters_numbers = [i for i in range(1, 9)]\n",
    "    letters_numbers_perm = list(itertools.permutations(letters_numbers))\n",
    "    M = 0\n",
    "    l = [] # Сюда будем записывать относительную частоту\n",
    "    n = [] # Сюда будем записывать кол-во экспериментов (соответственно изменению кол-ва произошедших событий)\n",
    "\n",
    "    for j in range(1, N + 1):\n",
    "        peoples_look_for = random.sample(letters_numbers_perm, 1)\n",
    "        letters_numbers_selected_variant = random.sample(letters_numbers_perm, 1)\n",
    "        matches_count = 0\n",
    "\n",
    "        for i in range(8):\n",
    "            if peoples_look_for[0][i] == letters_numbers_selected_variant[0][i]:\n",
    "                matches_count += 1\n",
    "\n",
    "        if matches_count == 3:\n",
    "            M += 1\n",
    "\n",
    "            l.append(M/j)\n",
    "            n.append(j)\n",
    "\n",
    "    return M/N, l, n\n",
    "\n",
    "\n",
    "p, l, n = lot(1000)\n",
    "\n",
    "print(p)"
   ]
  },
  {
   "cell_type": "code",
   "execution_count": null,
   "id": "41b5576c-a765-4005-9485-0efeb167c199",
   "metadata": {},
   "outputs": [],
   "source": [
    "def plot_(l, n):\n",
    "    x = [x_coord for x_coord in n]\n",
    "    y = [y_coord for y_coord in l]\n",
    "    plt.plot(x, y, color = 'b')\n",
    "    plt.xlabel('Число экспериментов')\n",
    "    plt.ylabel('Относительная частота')\n",
    "    plt.grid()\n",
    "    plt.title('Зависимость относительной частоты от числа экспериментов')\n",
    "    plt.show()\n",
    "\n",
    "\n",
    "plot_(l, n)"
   ]
  },
  {
   "cell_type": "markdown",
   "id": "674bfc83-4360-4a6d-a445-694be7899655",
   "metadata": {},
   "source": [
    "5. (С использованием «Jupyter Notebook» или «Wolfram Mathematica»)\n",
    "Рассматривается множество натуральных чисел из отрезка [1, 100000]. Из этого\n",
    "множества наудачу выбирается некоторое число. Найти вероятность того, что это\n",
    "число является простым. Найти соответствующую\n",
    "статистическую вероятность и построить график зависимости относительной\n",
    "частоты от числа экспериментов N."
   ]
  },
  {
   "cell_type": "code",
   "execution_count": 17,
   "id": "4b783c8b-6ef2-4cbd-aac5-f57e7c644738",
   "metadata": {},
   "outputs": [
    {
     "name": "stdout",
     "output_type": "stream",
     "text": [
      "0.101\n"
     ]
    }
   ],
   "source": [
    "#import matplotlib.pyplot as plt\n",
    "import random\n",
    "\n",
    "\n",
    "def d(N):\n",
    "    M = 0\n",
    "    l_1 = [i for i in range(1, 100001)]\n",
    "    l = []  # Сюда будем записывать относительную частоту\n",
    "    n = []  # Сюда будем записывать кол-во экспериментов (соответственно изменению кол-ва произошедших событий)\n",
    "\n",
    "    for i in range(1, N + 1):\n",
    "        a = random.sample(l_1, 1)\n",
    "        b = True\n",
    "\n",
    "        for j in range(2, int(a[0]**0.5) + 1):\n",
    "            if a[0] % j == 0:\n",
    "                b = False\n",
    "                break\n",
    "\n",
    "        if b:\n",
    "            M += 1\n",
    "            l.append(M / i)\n",
    "            n.append(i)\n",
    "\n",
    "    return M / N, l, n\n",
    "\n",
    "\n",
    "p, l, n = d(1000)\n",
    "\n",
    "print(p)"
   ]
  },
  {
   "cell_type": "code",
   "execution_count": null,
   "id": "3da85cf0-00fd-4e98-8dfa-df05ed97f851",
   "metadata": {},
   "outputs": [],
   "source": [
    "def plot_(l, n):\n",
    "    x = [x_coord for x_coord in n]\n",
    "    y = [y_coord for y_coord in l]\n",
    "    plt.plot(x, y, color = 'b')\n",
    "    plt.xlabel('Число экспериментов')\n",
    "    plt.ylabel('Относительная частота')\n",
    "    plt.grid()\n",
    "    plt.title('Зависимость относительной частоты от числа экспериментов')\n",
    "    plt.show()\n",
    "\n",
    "\n",
    "plot_(l, n)"
   ]
  }
 ],
 "metadata": {
  "kernelspec": {
   "display_name": "Python 3 (ipykernel)",
   "language": "python",
   "name": "python3"
  },
  "language_info": {
   "codemirror_mode": {
    "name": "ipython",
    "version": 3
   },
   "file_extension": ".py",
   "mimetype": "text/x-python",
   "name": "python",
   "nbconvert_exporter": "python",
   "pygments_lexer": "ipython3",
   "version": "3.10.6"
  }
 },
 "nbformat": 4,
 "nbformat_minor": 5
}
