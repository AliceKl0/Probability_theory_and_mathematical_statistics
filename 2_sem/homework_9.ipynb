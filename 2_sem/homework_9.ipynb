{
 "cells": [
  {
   "cell_type": "code",
   "execution_count": 2,
   "id": "323df12e-952c-4e53-bcac-6aead3a699fb",
   "metadata": {},
   "outputs": [],
   "source": [
    "import scipy.stats as sts\n",
    "import scipy.integrate as intg\n",
    "import math"
   ]
  },
  {
   "cell_type": "markdown",
   "id": "699067ed-8e5f-4f55-a8f3-6464ff9bb242",
   "metadata": {},
   "source": [
    "1. Производится 5 выстрелов в мишень. Вероятность попадания при каждом \n",
    "выстреле равна 3/4. Найти вероятность того, что в мишени будет не менее трёх, но \n",
    "и не более четырёх пробоин. Найти наивероятнейшее число попаданий и \n",
    "соответствующую ему вероятность."
   ]
  },
  {
   "cell_type": "code",
   "execution_count": 2,
   "id": "af4429e7-daac-4101-a4c3-28b61dea2193",
   "metadata": {},
   "outputs": [
    {
     "data": {
      "text/plain": [
       "0.26367187499999983"
      ]
     },
     "execution_count": 2,
     "metadata": {},
     "output_type": "execute_result"
    }
   ],
   "source": [
    "p_3 = sts.binom.pmf(3, 5, 3/4)\n",
    "p_3"
   ]
  },
  {
   "cell_type": "code",
   "execution_count": 3,
   "id": "2e4ca47f-a0b6-4c2a-a796-bb3507d8a8e9",
   "metadata": {},
   "outputs": [
    {
     "data": {
      "text/plain": [
       "0.3955078125"
      ]
     },
     "execution_count": 3,
     "metadata": {},
     "output_type": "execute_result"
    }
   ],
   "source": [
    "p_4 = sts.binom.pmf(4, 5, 3/4)\n",
    "p_4"
   ]
  },
  {
   "cell_type": "code",
   "execution_count": 4,
   "id": "02ae33ac-a0a4-41a7-8b4b-44c61b36ef84",
   "metadata": {},
   "outputs": [
    {
     "data": {
      "text/plain": [
       "0.6591796874999998"
      ]
     },
     "execution_count": 4,
     "metadata": {},
     "output_type": "execute_result"
    }
   ],
   "source": [
    "p_3 + p_4"
   ]
  },
  {
   "cell_type": "markdown",
   "id": "1c82cd40-ac77-4ac2-87c1-af6bb949c2cc",
   "metadata": {},
   "source": [
    "Наивероятнейшее число попаданий:\n",
    "\n",
    "p = 3/4\n",
    "\n",
    "q = 1 - 3/4 = 1/4\n",
    "\n",
    "n = 5\n",
    "\n",
    "n*p - q <= k <= n*p + p"
   ]
  },
  {
   "cell_type": "code",
   "execution_count": 5,
   "id": "0bcc5782-1b4d-4829-9fc2-791c1b7f4f5c",
   "metadata": {},
   "outputs": [
    {
     "data": {
      "text/plain": [
       "(3.5, 4.5)"
      ]
     },
     "execution_count": 5,
     "metadata": {},
     "output_type": "execute_result"
    }
   ],
   "source": [
    "a = 3/4 * 5 - 1/4\n",
    "b = 3/4 * 5 + 3/4\n",
    "a, b # => k = 4, вероятность уже посчитана"
   ]
  },
  {
   "cell_type": "markdown",
   "id": "64c810e0-d725-4555-bddb-948675aa384b",
   "metadata": {},
   "source": [
    "Итак, P(3 <= x <= 4) = 0.6592 (где за x считаем кол-во попаданий); наивероятнейшее число попаданий = k = 4, p_4 = 0.3955"
   ]
  },
  {
   "cell_type": "markdown",
   "id": "769e137c-a013-4a6f-9f96-efae28686339",
   "metadata": {},
   "source": [
    "2. Игральная кость подбрасывается до тех пор, пока не выпадет 3 раза число очков, \n",
    "отличное от 6. Какова вероятность того, что «шестёрка» выпадет 3 раза?"
   ]
  },
  {
   "cell_type": "markdown",
   "id": "97289015-1e7a-4943-957c-b414e2aef173",
   "metadata": {},
   "source": [
    "A - выпала не 6\n",
    "\n",
    "B - выпала именно 6\n",
    "\n",
    "Тогда подходят случаи вида: AABBB (сочетания по 2 из 5) и в конце, на шестом броске, обязательно A."
   ]
  },
  {
   "cell_type": "code",
   "execution_count": 11,
   "id": "836abae9-cd4c-425d-8ea2-c7b71647fb53",
   "metadata": {},
   "outputs": [
    {
     "data": {
      "text/plain": [
       "0.026791838134430725"
      ]
     },
     "execution_count": 11,
     "metadata": {},
     "output_type": "execute_result"
    }
   ],
   "source": [
    "p = math.comb(5, 2) * (5/6)**3 * (1/6)**3\n",
    "p"
   ]
  },
  {
   "cell_type": "markdown",
   "id": "d853c00f-509a-43f3-b7db-498f66cd770d",
   "metadata": {},
   "source": [
    "3. В новом микрорайоне поставлено 10000 кодовых замков на входных дверях \n",
    "домов. Вероятность выхода из строя одного замка в течение месяца равна 0,0002. \n",
    "Найти вероятность того, что за месяц откажет ровно 1 замок."
   ]
  },
  {
   "cell_type": "code",
   "execution_count": 12,
   "id": "e2f0ee19-f63c-43da-84e7-fcabede88045",
   "metadata": {},
   "outputs": [
    {
     "data": {
      "text/plain": [
       "0.2706705664732254"
      ]
     },
     "execution_count": 12,
     "metadata": {},
     "output_type": "execute_result"
    }
   ],
   "source": [
    "P = sts.poisson.pmf(1, 10000 * 0.0002)\n",
    "P"
   ]
  },
  {
   "cell_type": "markdown",
   "id": "f1018366-382d-4731-9c27-9b0ab18c87d7",
   "metadata": {},
   "source": [
    "4. В банке, осуществляющем кредитование населения, 1000 клиентов. Каждому из \n",
    "клиентов выдается кредит 200 тыс. ден. ед. при условии возврата 119,31% от этой \n",
    "суммы. Вероятность невозврата кредита каждым из клиентов составляет 0,09. C \n",
    "какой вероятностью прибыль банка будет не ниже 12,8 млн. рублей?"
   ]
  },
  {
   "cell_type": "markdown",
   "id": "c925b8cc-bf82-4962-a55c-cf9ffbc8136d",
   "metadata": {},
   "source": [
    "x - кол-во тех, кто выплатили кредит\n",
    "\n",
    "x * 200000 * 1.1931 - (1000 - x) * 200000 >= 12800000\n",
    "\n",
    "Тогда x >= 485,... т.е x_min = 486"
   ]
  },
  {
   "cell_type": "code",
   "execution_count": 7,
   "id": "758fe4e6-4c10-4b10-9942-af5f77f1d808",
   "metadata": {},
   "outputs": [
    {
     "data": {
      "text/plain": [
       "1.0"
      ]
     },
     "execution_count": 7,
     "metadata": {},
     "output_type": "execute_result"
    }
   ],
   "source": [
    "def Lap_intg(x):\n",
    "    return math.exp(1)**(-(x**2/2)) * (1/math.sqrt(2*math.pi))\n",
    "\n",
    "n = 1000\n",
    "q = 0.09\n",
    "p = 1- q\n",
    "x1 = (486 - n*p)/(math.sqrt(n*p*q))\n",
    "x2 = (1000 - n*p)/(math.sqrt(n*p*q))\n",
    "\n",
    "f_x1 = intg.quad(Lap_intg, 0.0, x1)[0]\n",
    "f_x2 = intg.quad(Lap_intg, 0.0, x2)[0]\n",
    "\n",
    "p_x1_x2 = f_x2 - f_x1\n",
    "p_x1_x2\n",
    "\n",
    "# Ответ без учёта погрешности, в округлённом виде\n",
    "# (погрешность вычислений представлена в первом элементе кортежа, который возвращает intg.quad, например:\n",
    "# погрешность первого вычисления:\n",
    "# intg.quad(Lap_intg, 0.0, x1)[1] = 3.2975075192543767e-13"
   ]
  }
 ],
 "metadata": {
  "kernelspec": {
   "display_name": "Python 3 (ipykernel)",
   "language": "python",
   "name": "python3"
  },
  "language_info": {
   "codemirror_mode": {
    "name": "ipython",
    "version": 3
   },
   "file_extension": ".py",
   "mimetype": "text/x-python",
   "name": "python",
   "nbconvert_exporter": "python",
   "pygments_lexer": "ipython3",
   "version": "3.10.6"
  }
 },
 "nbformat": 4,
 "nbformat_minor": 5
}
