{
 "cells": [
  {
   "cell_type": "markdown",
   "id": "d007b97f-a4bb-4c6d-8105-45d1faab2fed",
   "metadata": {},
   "source": [
    "                                                         ИМПОРТИРОВАНИЕ МОДУЛЕЙ"
   ]
  },
  {
   "cell_type": "code",
   "execution_count": 1,
   "id": "71f147ed-0a83-476e-8323-ffc4d07a058d",
   "metadata": {},
   "outputs": [],
   "source": [
    "import scipy.stats as sps\n",
    "import scipy.optimize as spo\n",
    "import scipy.special as scs\n",
    "import numpy as np\n",
    "import pandas as pd\n",
    "import matplotlib.pyplot as plt\n",
    "%matplotlib inline\n",
    "import pickle\n",
    "import pyreadr"
   ]
  },
  {
   "cell_type": "markdown",
   "id": "4df6ae27-e59e-4694-a0e2-b30cd341dee6",
   "metadata": {},
   "source": [
    "                                                   ГЕНЕРАЦИЯ МАССИВОВ ВЫБОРОК РАСПРЕДЕЛЕНИЯ"
   ]
  },
  {
   "cell_type": "code",
   "execution_count": 2,
   "id": "a3b43c68-912b-4200-8969-202d8607010c",
   "metadata": {},
   "outputs": [],
   "source": [
    "def normal_array(N,T,mu,sigma):\n",
    "    A=np.zeros([N,T])\n",
    "    for i in range(N):\n",
    "        A[i,:]=sps.norm.rvs(loc=mu,scale=sigma,size=T)\n",
    "    return A\n",
    "\n",
    "def gamma_array(N,T,alpha,loc,scale):\n",
    "    A=np.zeros([N,T])\n",
    "    for i in range(N):\n",
    "        A[i,:]=sps.gamma.rvs(a=alpha,loc=loc,scale=scale,size=T)\n",
    "    return A\n",
    "\n",
    "def student_array(N,T,df,loc,scale):\n",
    "    A=np.zeros([N,T])\n",
    "    for i in range(N):\n",
    "        A[i,:]=sps.t.rvs(df=df,loc=loc,scale=scale,size=T)\n",
    "    return A"
   ]
  },
  {
   "cell_type": "code",
   "execution_count": null,
   "id": "34000bab-06d1-4e03-8450-39ec35133c49",
   "metadata": {},
   "outputs": [],
   "source": [
    "#####################################################################################################################################################\n",
    "#                                       Н А Р Е З К А    В Ы Б О Р К И     Н А     П О Д В Ы Б О Р К И\n",
    "#####################################################################################################################################################\n",
    "\n",
    "# ТОЧКИ НАРЕЗКИ ЗАДАЮТСЯ СПИСКОМ\n",
    "\n",
    "def cutting(data,List):        # data - список или одномерный массив,  List - список\n",
    "    def ListList(N):           # создает список длины len(List), элементы которого пустые списки\n",
    "        A=[]\n",
    "        for i in range(N):\n",
    "            A.append([])\n",
    "        return(A)\n",
    "    data=list(data)\n",
    "    if not List[0]==0:                      # Если начальный элемент списка List не равен нулю, к результату добавляется          \n",
    "        List.insert(0, 0)                   # начальный фрагмент [data[0]:data[List[0]]\n",
    "    if not List[len(List)-1]==len(data):    # Если конечный элемент списка List не длине массива(списка) data, \n",
    "        List.append(len(data))              # к результату добавляется конечный фрагмент [data[List[-1]:data[len(data)]\n",
    "    A=ListList(len(List)-1)\n",
    "    for i in range(len(A)):\n",
    "        A[i]=(data[List[i]:List[i+1]])    \n",
    "    return A\n",
    "####################################################################################################################################################\n",
    "# НАРЕЗКА НА ПОДВЫБОРКИ ФИКСИРОВАННОЙ ДЛИНЫ\n",
    "\n",
    "def subsamples(data,T,frombegin):             \n",
    "# data - список или массив np.array\n",
    "# T - объем (длина) подвыборок\n",
    "# Если frombegin=True, нарезка идет от начала u отбрасывается конец, иначе - нарезка идет от конца\n",
    "    data=list(data)\n",
    "    n=len(data)//T                              # n - количество подвыборок\n",
    "    rest=len(data)%n\n",
    "    if frombegin==False:                            \n",
    "        data=data[rest:(len(data))]\n",
    "    else:\n",
    "        data=data[0:n*T]\n",
    "    List = []\n",
    "    for i in range(n):\n",
    "        List.append(i*T)\n",
    "    Subs=cutting(data,List)\n",
    "    for i in range(len(Subs)):\n",
    "        Subs[i]=np.array(Subs[i])\n",
    "    return Subs                                      # Подвыборки - одномерные массивы\n",
    "\n",
    "####################################################################################################################################################\n",
    "# НАРЕЗКА МАССИВА НА ПОДВЫБОРКИ ФИКСИРОВАННОЙ ДЛИНЫ\n",
    "\n",
    "def subsamples_array(data,T,frombegin,axis):\n",
    "# data - двумерный массив\n",
    "# T - длина подвыборки\n",
    "# axis=0 - разбиение идет по столбцам (количество строк = [исходное количество строк/T]\n",
    "# axis=1 - разбиение идет по столбцам (количество столбцов = [исходное количество столбцов/T]\n",
    "    N0=data.shape[0]\n",
    "    N1=data.shape[1]\n",
    "    if axis==0:\n",
    "        n=N0//T\n",
    "        SUBS=np.zeros([n,T,N1])\n",
    "        for k in range(n):\n",
    "            for j in range(N1):\n",
    "                SUBS[k,:,j]=subsamples(data[:,j],T,True)[k]\n",
    "    if axis==1:\n",
    "        n=N1//T\n",
    "        SUBS=np.zeros([n,N0,T])\n",
    "        for k in range(n):\n",
    "            for i in range(N0):\n",
    "                SUBS[k,i,:]=subsamples(data[i,:],T,True)[k]\n",
    "    return SUBS"
   ]
  },
  {
   "cell_type": "markdown",
   "id": "a6be3d87-c4b7-4168-af58-0bebe4b3e7af",
   "metadata": {},
   "source": [
    "                                                    ЭМПИРИЧЕСКАЯ ПЛОТНОСТЬ ВЕРОЯТНОСТИ"
   ]
  },
  {
   "cell_type": "code",
   "execution_count": 3,
   "id": "49ab29fa-0930-4cd3-bbcf-f77df15bd6b4",
   "metadata": {},
   "outputs": [],
   "source": [
    "# ГИСТОГРАММА\n",
    "\n",
    "#np.histogram(data, bins=10, range=None, density=None, weights=None)\n",
    "# range  = (,) - нижнее и верхнее значение диапазона (по умолчанию (min(data),max(data))\n",
    "# bins - точки разбиения диапазона (можно задать как список или числом - тогда промежутки будут равными)\n",
    "# density - если density=True, гистограмма нормируется на единицу\n",
    "\n",
    "#################################################################################################################################\n",
    "\n",
    "# ЭМПИРИЧЕСКАЯ ПЛОТНОСТЬ\n",
    "def empiric_density(data, number_breaks, mindata, maxdata):                      # data - np.array(N,);   N=data.shape[0]\n",
    "    data=np.array(data)\n",
    "    step=(maxdata-mindata)/number_breaks\n",
    "    breaks=mindata+step*range(0,number_breaks+1)\n",
    "    mids=mindata+step/2+step*range(0,number_breaks)\n",
    "    density=(maxdata-mindata)/(max(data)-min(data))*np.histogram(data,bins=number_breaks,range=(mindata, maxdata),density=True)[0]\n",
    "    # эмпирическая плотность отнормирована на диапазон - интеграл от плотности на диапазоне равен единице\n",
    "    return([mids],[density])\n",
    "##################################################################################################################################\n",
    "# ИЗВЛЕКАЕТ ИЗ ФУНКЦИИ empiric_density ЧАСТОСТИ КАК np.array (n,)\n",
    "\n",
    "def Y_density(data,number_breaks):\n",
    "    return np.array(empiric_density(data, number_breaks,mindata=min(data), maxdata=max(data)))[1,0,:]\n",
    "def Y_cumulative(data,number_breaks):\n",
    "    return np.array(empiric_cumulative_density(data, number_breaks,mindata=min(data), maxdata=max(data)))[1,0,:]\n",
    "\n",
    "##################################################################################################################################\n",
    "# ЭМПИРИЧЕСКАЯ ПЛОТНОСТЬ И ЕЕ ГРАФИК\n",
    "    # На график эмпирической плотности можно накладывать различные кривые - графики функций из списка [F]\n",
    "\n",
    "def Empiric_density(data, number_breaks, F,colors,mindata, maxdata,MEAN):\n",
    "    # data - np.array (одномерный)\n",
    "    # F - список функций\n",
    "    # colors - список цветов\n",
    "    # mindata,maxdata - границы графика\n",
    "    # MEAN - если MEAN=True, наносится вертикальная линия - среднее значение data\n",
    "    Dens=empiric_density(data, number_breaks, mindata, maxdata)\n",
    "    plt.figure()\n",
    "    X1=list()\n",
    "    Y1=list()\n",
    "    \n",
    "    for i in range(Dens[0][0].shape[0]):\n",
    "        X1.append(np.array(Dens[0])[0,i])\n",
    "        Y1.append(np.array(Dens[1])[0,i])\n",
    "    Z=np.zeros([len(F),Dens[0][0].shape[0]])\n",
    "    plt.plot(X1,Y1,'b')\n",
    "    for i in range(len(F)):\n",
    "        Z[i,:]=np.vectorize(F[i])(X1)\n",
    "        plt.plot(X1,Z[i],color=colors[i])\n",
    "    plt.title('EMPIRIC DENSITY')\n",
    "    plt.xlabel('breaks')\n",
    "    plt.ylabel('probabilities')\n",
    "    plt.grid()\n",
    "    plt.axvline(lw=3,color='k',x=0)\n",
    "    plt.axhline(lw=3,color='k',y=0)\n",
    "    if MEAN==True:\n",
    "        plt.axvline(lw=3,color='g',x=np.mean(data))\n",
    "    return plt.show"
   ]
  },
  {
   "cell_type": "markdown",
   "id": "92bfb166-e64f-46ef-a5a9-6151212fa38e",
   "metadata": {},
   "source": [
    "                                                         ЭМПИРИЧЕСКАЯ ФУНКЦИЯ РАСПРЕДЕЛЕНИЯ"
   ]
  },
  {
   "cell_type": "code",
   "execution_count": 4,
   "id": "e4109a61-ab60-4406-8318-808ae13dcdb4",
   "metadata": {},
   "outputs": [],
   "source": [
    "# ЭМПИРИЧЕСКАЯ ФУНКЦИЯ РАСПРЕДЕЛЕНИЯ\n",
    "def empiric_cumulative_density(t,data,less):\n",
    "    if t<=min(data):\n",
    "        return 0\n",
    "    if t>=max(data):\n",
    "        return 1\n",
    "    data=sorted(list(data))\n",
    "    if t<data[0]:\n",
    "        return 0\n",
    "    leftx=list(filter(lambda x: x<=t, data))[-1]\n",
    "    rightx=list(filter(lambda x: x>t, data))[0]\n",
    "    left_index=data.index(leftx)\n",
    "    right_index=data.index(rightx)\n",
    "    if less==True:\n",
    "        leftF=left_index/len(data)\n",
    "        rightF=right_index/len(data)\n",
    "    else:\n",
    "        leftF=(left_index+1)/len(data)\n",
    "        rightF=(right_index+1)/len(data)\n",
    "    Fdistrx=leftF+(rightF-leftF)/(rightx-leftx)*(t-leftx)\n",
    "    return Fdistrx\n",
    "\n",
    "#######################################################################################################################################\n",
    "# ЭМПИРИЧЕСКАЯ ФУНКЦИЯ РАСПРЕДЕЛЕНИЯ И ЕЕ ГРАФИК\n",
    "    # На график эмпирической плотности можно накладывать различные кривые - графики функций из списка [F]\n",
    "\n",
    "def Empiric_cumulative_density(data,number_breaks,F,colors,less,MEAN):\n",
    "    step=(max(data)-min(data))/number_breaks\n",
    "    X1=np.zeros(number_breaks)\n",
    "    Y1=np.zeros(number_breaks)\n",
    "    for i in range(number_breaks):\n",
    "        X1[i]=min(data)+i*step\n",
    "        Y1[i]=empiric_cumulative_density(X1[i],data,less)\n",
    "    Z=np.zeros([len(F),X1.shape[0]])\n",
    "    plt.plot(X1,Y1,'b')\n",
    "    for i in range(len(F)):\n",
    "        Z[i,:]=np.vectorize(F[i])(X1)\n",
    "        plt.plot(X1,Z[i],color=colors[i])\n",
    "    plt.title('EMPIRIC DENSITY')\n",
    "    plt.xlabel('breaks')\n",
    "    plt.ylabel('probabilities')\n",
    "    plt.grid()\n",
    "    plt.axvline(lw=3,color='k',x=0)\n",
    "    plt.axhline(lw=3,color='k',y=0)\n",
    "    if MEAN==True:\n",
    "        plt.axvline(lw=3,color='g',x=np.mean(data))\n",
    "    return plt.show()"
   ]
  },
  {
   "cell_type": "code",
   "execution_count": null,
   "id": "55e58ee0-0a29-482c-906b-a2ad5fd380df",
   "metadata": {},
   "outputs": [],
   "source": [
    "                                                                 ЭМПИРИЧЕСКИЙ КВАНТИЛЬ"
   ]
  },
  {
   "cell_type": "code",
   "execution_count": 5,
   "id": "3cf178ca-1519-4f85-824d-7c404428b9a3",
   "metadata": {},
   "outputs": [],
   "source": [
    "# КВАНТИЛЬ ЭМПИРИЧЕСКОГО РАСПРЕДЕЛЕНИЯ\n",
    "\n",
    "def empiric_ppf(data,alpha):\n",
    "    data=list(data)\n",
    "    sorted_data=sorted(data)\n",
    "    return sorted_data[round(alpha*len(data))]"
   ]
  },
  {
   "cell_type": "markdown",
   "id": "068d4a96-caf9-4c30-8633-63c212c97f71",
   "metadata": {},
   "source": [
    "                                                             СТАТИСТИЧЕСКИЙ АНАЛИЗ ТЕСТА"
   ]
  },
  {
   "cell_type": "code",
   "execution_count": 13,
   "id": "200d8500-7196-4924-8351-4aacc581c08b",
   "metadata": {},
   "outputs": [],
   "source": [
    "def pval_stat1(A,alpha):\n",
    "    B=np.zeros(A.shape[0])\n",
    "    for i in range(A.shape[0]):\n",
    "        if A[i]>alpha:\n",
    "            B[i]=1\n",
    "        else:\n",
    "            B[i]=0\n",
    "    count=np.sum(B)/A.shape[0]\n",
    "    return count\n",
    "\n",
    "def pval_stat2(A,alpha,axis):\n",
    "    B=np.zeros([A.shape[0],A.shape[1]])\n",
    "    for i in range(A.shape[0]):\n",
    "        for j in range(A.shape[1]):\n",
    "            if A[i,j]>alpha:\n",
    "                B[i,j]=1\n",
    "            else:\n",
    "                B[i,j]=0\n",
    "    count=np.sum(B,axis=axis)/A.shape[axis]\n",
    "    return count"
   ]
  },
  {
   "cell_type": "markdown",
   "id": "7a36d944-b4d4-442d-8816-99926520db40",
   "metadata": {},
   "source": [
    "                            Т Е С Т     К О Л М О Г О Р О В А - С М И Р Н О В А     Н А     О Д Н О Р О Д Н О С Т Ь"
   ]
  },
  {
   "cell_type": "markdown",
   "id": "80c97926-f35a-4f6c-bd96-cf1fcc7f37db",
   "metadata": {},
   "source": [
    "                                                             НОРМАЛЬНОЕ РАСПРЕДЕЛЕНИЕ"
   ]
  },
  {
   "cell_type": "code",
   "execution_count": 19,
   "id": "19caf62a-c942-4296-99dd-b6e1b16387b1",
   "metadata": {},
   "outputs": [],
   "source": [
    "# БОЛЬШОЙ МАССИВ ВЫБОРОК\n",
    "\n",
    "# Параметры массива\n",
    "N_norm_KS=10000       # Количество выборок\n",
    "m_norm_KS=50          # Длины выборок\n",
    "n_norm_KS=50\n",
    "\n",
    "# Параметры выборок\n",
    "mu1_KS=0\n",
    "mu2_KS=0.2\n",
    "sigma1_KS=1\n",
    "sigma2_KS=1.5\n",
    "\n",
    "# Генерация массива выборок\n",
    "ARRAY_norm1_KS=normal_array(N_norm_KS,T=m_norm_KS,mu=0,sigma=sigma1_KS)\n",
    "ARRAY_norm2_KS=normal_array(N_norm_KS,T=n_norm_KS,mu=0,sigma=sigma2_KS)"
   ]
  },
  {
   "cell_type": "code",
   "execution_count": 20,
   "id": "c0ee759c-957a-4bd3-b0c5-ef600b841801",
   "metadata": {},
   "outputs": [
    {
     "data": {
      "image/png": "[encoded data removed]",
      "text/plain": [
       "<Figure size 640x480 with 1 Axes>"
      ]
     },
     "metadata": {},
     "output_type": "display_data"
    }
   ],
   "source": [
    "# Статистика Колмогорова-Смирнова\n",
    "D_norm=np.zeros(N_norm_KS)\n",
    "for i in range(N_norm_KS):\n",
    "    D_norm[i]=sps.ks_2samp(ARRAY_norm1_KS[i,:],ARRAY_norm2_KS[i,:]).statistic*((m_norm_KS*n_norm_KS)/(m_norm_KS+n_norm_KS))**0.5\n",
    "\n",
    "# Визуализация\n",
    "Empiric_cumulative_density(data=D_norm,number_breaks=min(m_norm_KS,n_norm_KS),F=[sps.kstwobign.cdf],colors=['r'],less=False,MEAN=True)"
   ]
  },
  {
   "cell_type": "code",
   "execution_count": 21,
   "id": "b4ba7257-4878-44d7-b715-12b5fad600c7",
   "metadata": {},
   "outputs": [
    {
     "data": {
      "text/plain": [
       "(10000,)"
      ]
     },
     "execution_count": 21,
     "metadata": {},
     "output_type": "execute_result"
    }
   ],
   "source": [
    "# Тест Колмогорова-Смирнова\n",
    "\n",
    "KS_test_norm=[]\n",
    "for i in range(N_norm_KS):\n",
    "    KS_test_norm.append([])\n",
    "KS_norm_statistic=np.zeros(N_norm_KS)\n",
    "KS_norm_pvalue=np.zeros(N_norm_KS)\n",
    "for i in range(len(KS_test_norm)):\n",
    "    KS_test_norm[i]=sps.ks_2samp(ARRAY_norm1_KS[i,:],ARRAY_norm2_KS[i,:],alternative='two-sided')\n",
    "    KS_norm_statistic[i]=KS_test_norm[i][0]\n",
    "    KS_norm_pvalue[i]=KS_test_norm[i][1]\n",
    "KS_norm_pvalue.shape\n"
   ]
  },
  {
   "cell_type": "code",
   "execution_count": 22,
   "id": "f6d591a6-1cd7-4c61-9445-f73f7329a87d",
   "metadata": {},
   "outputs": [
    {
     "data": {
      "text/plain": [
       "0.8"
      ]
     },
     "execution_count": 22,
     "metadata": {},
     "output_type": "execute_result"
    }
   ],
   "source": [
    "# Статистический анализ\n",
    "\n",
    "alpha_KS=0.1\n",
    "KS_norm_stat=pval_stat1(KS_norm_pvalue,alpha_KS)\n",
    "KS_norm_stat"
   ]
  },
  {
   "cell_type": "markdown",
   "id": "8232b435-50a0-44cb-8223-ca81ff9e8555",
   "metadata": {},
   "source": [
    "                                                                  ГАММА-РАСПРЕДЕЛЕНИЕ"
   ]
  },
  {
   "cell_type": "code",
   "execution_count": null,
   "id": "4af7e3e2-04e7-44e7-aebd-1d02cc721fbc",
   "metadata": {},
   "outputs": [],
   "source": [
    "# Параметры массива\n",
    "m_gamma_KS=50\n",
    "n_gamma_KS=50\n",
    "N_gamma_KS=1000\n",
    "\n",
    "# Параметры выборок\n",
    "alpha_gamma_KS1=1\n",
    "alpha_gamma_KS2=1.2\n",
    "\n",
    "# Генерация массива выборок\n",
    "ARRAY_gamma1_KS=gamma_array(N_gamma_KS,T=m_gamma_KS,alpha=alpha_gamma_KS1,loc=0,scale=1)\n",
    "ARRAY_gamma2_KS=gamma_array(N_gamma_KS,T=n_gamma_KS,alpha=alpha_gamma_KS2,loc=0,scale=1)\n",
    "\n",
    "# Статистика Колмогорова-Смирнова\n",
    "D_gamma=np.zeros(N_gamma_KS)\n",
    "for i in range(N_gamma_KS):\n",
    "    D_gamma[i]=sps.ks_2samp(ARRAY_gamma1_KS[i,:],ARRAY_gamma2_KS[i,:]).statistic*((m_gamma_KS*n_gamma_KS)/(m_gamma_KS+n_gamma_KS))**0.5\n",
    "\n",
    "# Визуализация\n",
    "Empiric_cumulative_density(data=D_gamma,number_breaks=min(m_gamma_KS,n_gamma_KS),F=[sps.kstwobign.cdf],colors=['r'],less=False,MEAN=True)"
   ]
  },
  {
   "cell_type": "code",
   "execution_count": null,
   "id": "6169678b-23a6-4c02-bb65-3b493c036783",
   "metadata": {},
   "outputs": [],
   "source": [
    "# Тест Колмогорова-Смирнова\n",
    "\n",
    "KS_test_gamma=[]\n",
    "for i in range(N_gamma_KS):\n",
    "    KS_test_gamma.append([])\n",
    "KS_gamma_statistic=np.zeros(N_gamma_KS)\n",
    "KS_gamma_pvalue=np.zeros(N_gamma_KS)\n",
    "for i in range(len(KS_test_gamma)):\n",
    "    KS_test_gamma[i]=sps.ks_2samp(ARRAY_gamma1_KS[i,:],ARRAY_gamma2_KS[i,:],alternative='two-sided')\n",
    "    KS_gamma_statistic[i]=KS_test_gamma[i][0]\n",
    "    KS_gamma_pvalue[i]=KS_test_gamma[i][1]\n",
    "KS_gamma_pvalue"
   ]
  },
  {
   "cell_type": "code",
   "execution_count": null,
   "id": "03d824ab-a0cb-4cda-87c8-0d3857d00dd9",
   "metadata": {},
   "outputs": [],
   "source": [
    "# Статистический анализ\n",
    "\n",
    "alpha_KS=0.1\n",
    "KS_gamma_stat=pval_stat1(KS_gamma_pvalue,alpha_KS)\n",
    "KS_gamma_stat"
   ]
  },
  {
   "cell_type": "code",
   "execution_count": null,
   "id": "8e2c9ff8-5a16-4b42-b165-a1c66bc2225e",
   "metadata": {},
   "outputs": [],
   "source": [
    "                                        Т Е С Т    Н А    Р А В Е Н С Т В О      Д И С П Е Р С И Й"
   ]
  },
  {
   "cell_type": "code",
   "execution_count": 23,
   "id": "01dfbb6b-d91c-4af8-a82c-3b00d28461ea",
   "metadata": {},
   "outputs": [],
   "source": [
    "# ТЕСТ НА РАВЕНСТВО ДИСПЕРСИЙ\n",
    "\n",
    "def F_test(data1, data2,alpha,two_sided=False):\n",
    "    data1 = np.array(data1)\n",
    "    data2 = np.array(data2)\n",
    "    var1=np.var(data1,ddof=1)\n",
    "    var2=np.var(data2,ddof=2)\n",
    "    \n",
    "# F-статистика    \n",
    "    if two_sided==True:\n",
    "        F = var1/var2\n",
    "        dfn = data1.shape[0]-1                                    # Количество степеней свободы числителя\n",
    "        dfd = data2.shape[0]-1                                    # Количество степеней свободы знаменателя\n",
    "        pval_left=sps.f.cdf(F,dfn,dfd)\n",
    "        pval_right=1-sps.f.cdf(F,dfn,dfd)\n",
    "        pvalue=[pval_left,pval_right]\n",
    "        if pval_left<alpha/2 or pval_right<alpha/2:\n",
    "            result=0\n",
    "        else:\n",
    "            result=1\n",
    "        \n",
    "    else:\n",
    "        if var1>var2:\n",
    "            F=var1/var2\n",
    "            dfn = data1.shape[0]-1                                    # Количество степеней свободы числителя\n",
    "            dfd = data2.shape[0]-1                                    # Количество степеней свободы знаменателя\n",
    "        else:\n",
    "            F=var2/var1\n",
    "            dfn = data2.shape[0]-1                                    # Количество степеней свободы числителя\n",
    "            dfd = data1.shape[0]-1                                    # Количество степеней свободы знаменателя\n",
    "        pvalue=1-sps.f.cdf(F, dfn, dfd)\n",
    "        if pvalue<alpha:\n",
    "            result=0\n",
    "        else:\n",
    "            result=1\n",
    "    return [F,pvalue,result]\n"
   ]
  },
  {
   "cell_type": "code",
   "execution_count": null,
   "id": "eacf34b1-4f11-4d14-affd-43e51d63ea13",
   "metadata": {},
   "outputs": [],
   "source": [
    "                                                Н о р м а л ь н о е      р а с п р е д е л е н и е"
   ]
  },
  {
   "cell_type": "code",
   "execution_count": 33,
   "id": "3af1e209-3868-4fb4-86a3-ae38a1ac0d67",
   "metadata": {},
   "outputs": [],
   "source": [
    "# Количество выборок\n",
    "N_norm_F=1000\n",
    "\n",
    "# Длины выборок\n",
    "T_norm1_F=50\n",
    "T_norm2_F=50\n",
    "\n",
    "# Дисперсии выборок\n",
    "sigma1_F=1\n",
    "sigma2_F=1.5\n",
    "\n",
    "# Генерация массива выборок\n",
    "ARRAY_NORM1_F=normal_array(N=N_norm_F,T=T_norm1_F,mu=0,sigma=sigma1_F)\n",
    "ARRAY_NORM2_F=normal_array(N=N_norm_F,T=T_norm2_F,mu=0,sigma=sigma2_F)"
   ]
  },
  {
   "cell_type": "code",
   "execution_count": 34,
   "id": "85aaf128-a02f-4785-8f1a-e0df9733cfa6",
   "metadata": {},
   "outputs": [
    {
     "data": {
      "text/plain": [
       "array([[0., 0.],\n",
       "       [0., 0.],\n",
       "       [0., 0.],\n",
       "       ...,\n",
       "       [0., 0.],\n",
       "       [0., 0.],\n",
       "       [1., 1.]])"
      ]
     },
     "execution_count": 34,
     "metadata": {},
     "output_type": "execute_result"
    }
   ],
   "source": [
    "# Тест Фишера\n",
    "\n",
    "alpha_F=0.1\n",
    "F_test_normal_one_sided=np.zeros(N_norm_F)\n",
    "F_test_normal_two_sided=np.zeros(N_norm_F)\n",
    "for i in range(N_norm_F):\n",
    "    F_test_normal_one_sided[i]=F_test(ARRAY_NORM1_F[i,:],ARRAY_NORM2_F[i,:],alpha=alpha_F,two_sided=False)[2]\n",
    "    F_test_normal_two_sided[i]=F_test(ARRAY_NORM1_F[i,:],ARRAY_NORM2_F[i,:],alpha=alpha_F,two_sided=True)[2]\n",
    "F_test_normal_result=np.zeros([N_norm_F,2])\n",
    "F_test_normal_result[:,0]=F_test_normal_one_sided\n",
    "F_test_normal_result[:,1]=F_test_normal_two_sided\n",
    "F_test_normal_result"
   ]
  },
  {
   "cell_type": "code",
   "execution_count": 35,
   "id": "0fe7dda8-79aa-4608-9fa7-a6c8051a715d",
   "metadata": {},
   "outputs": [
    {
     "data": {
      "text/plain": [
       "[0.051, 0.102]"
      ]
     },
     "execution_count": 35,
     "metadata": {},
     "output_type": "execute_result"
    }
   ],
   "source": [
    "# Статистический анализ\n",
    "[int(np.sum(F_test_normal_result[:,0]))/N_norm_F, int(np.sum(F_test_normal_result[:,1]))/N_norm_F]\n"
   ]
  },
  {
   "cell_type": "markdown",
   "id": "c593bd51-5e72-49c3-9adf-0620a11d17ed",
   "metadata": {},
   "source": [
    "                                                   Г а м м а     р а с п р е д е л е н и е"
   ]
  },
  {
   "cell_type": "code",
   "execution_count": 40,
   "id": "b2889d94-2beb-43fb-bc68-e2f189758af8",
   "metadata": {},
   "outputs": [],
   "source": [
    "# Параметры массива\n",
    "N_gamma_F=10000\n",
    "T1_gamma_F=50\n",
    "T2_gamma_F=50\n",
    "\n",
    "# Параметры выборок\n",
    "alpha_gamma1=2\n",
    "alpha_gamma2=2.5\n",
    "alpha_Ftest=0.1\n",
    "\n",
    "# Генерация массива выборок\n",
    "ARRAY_GAMMA1_F=gamma_array(N=N_gamma_F,T=T1_gamma_F,alpha=alpha_gamma1,loc=0,scale=1)\n",
    "ARRAY_GAMMA2_F=gamma_array(N=N_gamma_F,T=T2_gamma_F,alpha=alpha_gamma2,loc=0,scale=1)"
   ]
  },
  {
   "cell_type": "code",
   "execution_count": 41,
   "id": "13f4b79b-9c76-4b50-9f2b-88156f65662b",
   "metadata": {},
   "outputs": [
    {
     "data": {
      "text/plain": [
       "<function matplotlib.pyplot.show(close=None, block=None)>"
      ]
     },
     "execution_count": 41,
     "metadata": {},
     "output_type": "execute_result"
    },
    {
     "data": {
      "image/png": "[encoded data removed]",
      "text/plain": [
       "<Figure size 640x480 with 1 Axes>"
      ]
     },
     "metadata": {},
     "output_type": "display_data"
    }
   ],
   "source": [
    "\n",
    "Vars_gamma1=np.var(ARRAY_GAMMA1_F,ddof=1,axis=1)\n",
    "Vars_gamma2=np.var(ARRAY_GAMMA2_F,ddof=1,axis=1)\n",
    "\n",
    "# Построение статистики Фишера и визуализация\n",
    "F_gamma=Vars_gamma1/Vars_gamma2\n",
    "def fFisher_gamma(x):\n",
    "    return sps.f.pdf(x,dfn=T1_gamma_F-1,dfd=T2_gamma_F-1)\n",
    "Empiric_density(data=F_gamma, number_breaks=round(N_gamma_F/200), F=[fFisher_gamma],colors=['r'],mindata=min(F_gamma), maxdata=max(F_gamma),MEAN=True)"
   ]
  },
  {
   "cell_type": "code",
   "execution_count": 42,
   "id": "1c7335a6-1c4b-44c3-8141-65fd304b5a80",
   "metadata": {},
   "outputs": [
    {
     "data": {
      "text/plain": [
       "array([[1., 1.],\n",
       "       [1., 1.],\n",
       "       [1., 1.],\n",
       "       ...,\n",
       "       [1., 1.],\n",
       "       [0., 1.],\n",
       "       [1., 1.]])"
      ]
     },
     "execution_count": 42,
     "metadata": {},
     "output_type": "execute_result"
    }
   ],
   "source": [
    "# Тест Фишера\n",
    "\n",
    "alpha_F=0.1\n",
    "F_test_gamma_one_sided=np.zeros(N_gamma_F)\n",
    "F_test_gamma_two_sided=np.zeros(N_gamma_F)\n",
    "for i in range(N_gamma_F):\n",
    "    F_test_gamma_one_sided[i]=F_test(ARRAY_GAMMA1_F[i,:],ARRAY_GAMMA2_F[i,:],alpha=alpha_F,two_sided=False)[2]\n",
    "    F_test_gamma_two_sided[i]=F_test(ARRAY_GAMMA1_F[i,:],ARRAY_GAMMA2_F[i,:],alpha=alpha_F,two_sided=True)[2]\n",
    "F_test_gamma_result=np.zeros([N_gamma_F,2])\n",
    "F_test_gamma_result[:,0]=F_test_gamma_one_sided\n",
    "F_test_gamma_result[:,1]=F_test_gamma_two_sided\n",
    "F_test_gamma_result"
   ]
  },
  {
   "cell_type": "code",
   "execution_count": 43,
   "id": "7008a386-ae11-4831-a6f8-849a1ee64397",
   "metadata": {},
   "outputs": [
    {
     "data": {
      "text/plain": [
       "[0.5391, 0.6615]"
      ]
     },
     "execution_count": 43,
     "metadata": {},
     "output_type": "execute_result"
    }
   ],
   "source": [
    "[int(np.sum(F_test_gamma_result[:,0]))/N_gamma_F, int(np.sum(F_test_gamma_result[:,1]))/N_gamma_F]"
   ]
  },
  {
   "cell_type": "markdown",
   "id": "dbb3a6e5-f01d-4de6-9da9-bbcf3293e7f5",
   "metadata": {},
   "source": [
    "                                              Р а с п р е д е л е н и е      С т ь ю д е н т а"
   ]
  },
  {
   "cell_type": "code",
   "execution_count": 49,
   "id": "7f201770-3c2e-46db-8f70-c8468d32c4d9",
   "metadata": {},
   "outputs": [],
   "source": [
    "# Параметры массива\n",
    "N_t_F=10000       # количество выборок\n",
    "T1_t_F=50         # длины выборок\n",
    "T2_t_F=50\n",
    "\n",
    "# Параметры выборки\n",
    "df1_t_F=5        # количество степеней свободы\n",
    "df2_t_F=10\n",
    "scale_t_F=1\n",
    "\n",
    "# Генерация массива выборок\n",
    "ARRAY_STUD1_F=student_array(N=N_t_F,T=T1_t_F,df=df1_t_F,loc=0,scale=scale_t_F)\n",
    "ARRAY_STUD2_F=student_array(N=N_t_F,T=T2_t_F,df=df2_t_F,loc=0,scale=scale_t_F)\n",
    "\n",
    "# Выборочные дисперсии\n",
    "Vars_t_1=np.var(ARRAY_STUD1_F,ddof=1,axis=1)\n",
    "Vars_t_2=np.var(ARRAY_STUD2_F,ddof=1,axis=1)"
   ]
  },
  {
   "cell_type": "code",
   "execution_count": 50,
   "id": "1992d653-22a1-44dd-92a6-6183fd5b552c",
   "metadata": {},
   "outputs": [
    {
     "data": {
      "text/plain": [
       "<function matplotlib.pyplot.show(close=None, block=None)>"
      ]
     },
     "execution_count": 50,
     "metadata": {},
     "output_type": "execute_result"
    },
    {
     "data": {
      "image/png": "[encoded data removed]",
      "text/plain": [
       "<Figure size 640x480 with 1 Axes>"
      ]
     },
     "metadata": {},
     "output_type": "display_data"
    }
   ],
   "source": [
    "# Построение статистики Фишера и визуализация\n",
    "F_t=Vars_t_1/Vars_t_2\n",
    "def fFisher_t(x):\n",
    "    return sps.f.pdf(x,dfn=T1_t_F-1,dfd=T2_t_F-1)\n",
    "Empiric_density(data=F_t, number_breaks=round(N_t_F/200), F=[fFisher_t],colors=['r'],mindata=min(F_t), maxdata=max(F_t),MEAN=True)"
   ]
  },
  {
   "cell_type": "code",
   "execution_count": 51,
   "id": "2337f30c-d698-4b1f-a582-9b7feaf07a57",
   "metadata": {},
   "outputs": [
    {
     "data": {
      "text/plain": [
       "[[0.691616025161473, 0.6221654675017775],\n",
       " [2.5471953716000413, 1.6072894627459264]]"
      ]
     },
     "execution_count": 51,
     "metadata": {},
     "output_type": "execute_result"
    }
   ],
   "source": [
    "# Сравнение квантилей эмпирического распределения статистики Фишера и распределения Стьюдента\n",
    "\n",
    "alpha_F=0.1\n",
    "left_empiric=empiric_ppf(F_t,alpha_F/2)\n",
    "right_empiric=empiric_ppf(F_t,1-alpha_F/2)\n",
    "left_t=sps.f.ppf(q=alpha_F/2,dfn=T1_t_F-1,dfd=T2_t_F-1)\n",
    "right_t=sps.f.ppf(q=1-alpha_F/2,dfn=T1_t_F-1,dfd=T2_t_F-1)\n",
    "[[left_empiric,left_t],[right_empiric,right_t]]\n"
   ]
  },
  {
   "cell_type": "code",
   "execution_count": 52,
   "id": "9c0c16a3-53e8-49da-a351-5a9b90ce4f80",
   "metadata": {},
   "outputs": [
    {
     "data": {
      "text/plain": [
       "array([[1., 1.],\n",
       "       [0., 0.],\n",
       "       [0., 0.],\n",
       "       ...,\n",
       "       [0., 0.],\n",
       "       [1., 1.],\n",
       "       [1., 1.]])"
      ]
     },
     "execution_count": 52,
     "metadata": {},
     "output_type": "execute_result"
    }
   ],
   "source": [
    "# Тест Фишера\n",
    "\n",
    "F_test_t_one_sided=np.zeros(N_t_F)\n",
    "F_test_t_two_sided=np.zeros(N_t_F)\n",
    "for i in range(N_t_F):\n",
    "    F_test_t_one_sided[i]=F_test(ARRAY_STUD1_F[i,:],ARRAY_STUD2_F[i,:],alpha=alpha_F,two_sided=False)[2]\n",
    "    F_test_t_two_sided[i]=F_test(ARRAY_STUD1_F[i,:],ARRAY_STUD2_F[i,:],alpha=alpha_F,two_sided=True)[2]\n",
    "F_test_t_result=np.zeros([N_t_F,2])\n",
    "F_test_t_result[:,0]=F_test_t_one_sided\n",
    "F_test_t_result[:,1]=F_test_t_two_sided\n",
    "F_test_t_result"
   ]
  },
  {
   "cell_type": "code",
   "execution_count": 53,
   "id": "68561481-106e-4ee9-a947-30fe1e12a23a",
   "metadata": {},
   "outputs": [
    {
     "data": {
      "text/plain": [
       "[0.5736, 0.698]"
      ]
     },
     "execution_count": 53,
     "metadata": {},
     "output_type": "execute_result"
    }
   ],
   "source": [
    "[int(np.sum(F_test_t_result[:,0]))/N_t_F, int(np.sum(F_test_t_result[:,1]))/N_t_F]"
   ]
  },
  {
   "cell_type": "markdown",
   "id": "072e2485-8df5-442c-92fc-9245de5e7673",
   "metadata": {},
   "source": [
    "           Т Е С Т     Н А     Р А В Е Н С Т В О      М А Т Е М А Т И Ч Е С К И Х     О Ж И Д А Н И Й     (С Р Е Д Н И Х)"
   ]
  },
  {
   "cell_type": "markdown",
   "id": "aa9b8590-5804-4159-a9b7-e4c9f5e78c32",
   "metadata": {},
   "source": [
    "                                                 НОРМАЛЬНОЕ РАСПРЕДЕЛЕНИЕ"
   ]
  },
  {
   "cell_type": "code",
   "execution_count": 54,
   "id": "267fcb05-6d66-4cf6-9049-779d1fe5ccdf",
   "metadata": {},
   "outputs": [
    {
     "data": {
      "text/plain": [
       "94.23076923076925"
      ]
     },
     "execution_count": 54,
     "metadata": {},
     "output_type": "execute_result"
    }
   ],
   "source": [
    "# МОДЕЛИРУЕМЫЕ ПАРАМЕТРЫ\n",
    "\n",
    "# Дисперсии \n",
    "sigma1_t=1                   \n",
    "sigma2_t=1.5\n",
    "\n",
    "# Длины выборок\n",
    "T_norm1_t=50            \n",
    "T_norm2_t=50\n",
    "\n",
    "#  Количество степеней свободы\n",
    "DF_norm_t=(sigma1_t/T_norm1_t+sigma2_t/T_norm2_t)**2/(1/(T_norm1_t-1)*(sigma1_t/T_norm1_t)**2+1/(T_norm2_t-1)*(sigma2_t/T_norm2_t)**2)\n",
    "DF_norm_t\n"
   ]
  },
  {
   "cell_type": "code",
   "execution_count": 63,
   "id": "14b21077-2a83-4ef6-808e-a5841f58700b",
   "metadata": {},
   "outputs": [],
   "source": [
    "# БОЛЬШОЙ МАССИВ ВЫБОРОК \n",
    "\n",
    "N_norm_t=10000         # Количество выборок\n",
    "mu1_t=0\n",
    "mu2_t=0.5\n",
    "ARRAY_NORM1_t=normal_array(N=N_norm_t,T=T_norm1_t,mu=mu1_t,sigma=sigma1_t)\n",
    "ARRAY_NORM2_t=normal_array(N=N_norm_t,T=T_norm2_t,mu=mu2_t,sigma=sigma2_t)\n",
    "\n",
    "Means_norm1_t=np.mean(ARRAY_NORM1_t,axis=1)      # выборочные средние\n",
    "Means_norm2_t=np.mean(ARRAY_NORM2_t,axis=1)\n",
    "Vars_norm1_t=np.var(ARRAY_NORM1_t,axis=1)          # выборочные дисперсии\n",
    "Vars_norm2_t=np.var(ARRAY_NORM2_t,axis=1)\n",
    "\n",
    "# t-статистика для тестирования гипотезы о равенстве средних\n",
    "t_norm=(Means_norm1_t-Means_norm2_t)/(Vars_norm1_t/T_norm1_t+Vars_norm2_t/T_norm2_t)**0.5"
   ]
  },
  {
   "cell_type": "code",
   "execution_count": 64,
   "id": "baccf135-8ede-417c-8547-67046580043f",
   "metadata": {},
   "outputs": [
    {
     "data": {
      "text/plain": [
       "<function matplotlib.pyplot.show(close=None, block=None)>"
      ]
     },
     "execution_count": 64,
     "metadata": {},
     "output_type": "execute_result"
    },
    {
     "data": {
      "image/png": "[encoded data removed]",
      "text/plain": [
       "<Figure size 640x480 with 1 Axes>"
      ]
     },
     "metadata": {},
     "output_type": "display_data"
    }
   ],
   "source": [
    "# ВИЗУАЛИЗАЦИЯ\n",
    "def fStudent_norm(x):\n",
    "    return sps.t.pdf(x,df=DF_norm_t,loc=0,scale=1)\n",
    "Empiric_density(data=t_norm, number_breaks=round(N_norm_t/200), F=[fStudent_norm],colors=['r'],mindata=min(t_norm), maxdata=max(t_norm),MEAN=True)"
   ]
  },
  {
   "cell_type": "code",
   "execution_count": 65,
   "id": "cb0cc4c5-0f80-489b-b9b7-ad4b2e565f2a",
   "metadata": {},
   "outputs": [
    {
     "data": {
      "text/plain": [
       "0.5963"
      ]
     },
     "execution_count": 65,
     "metadata": {},
     "output_type": "execute_result"
    }
   ],
   "source": [
    "# ТЕСТ НА РАВЕНСТВО МАТЕМАТИЧЕСКИХ ОЖИДАНИЙ - РАВНЫЕ ДИСПЕРСИИ\n",
    "\n",
    "statistic_t_equaldisp=np.zeros(N_norm_t)\n",
    "pvalue_t_equaldisp=np.zeros(N_norm_t)\n",
    "for i in range(N_norm_t):\n",
    "    # статистика Стьюдента\n",
    "    statistic_t_equaldisp[i]=sps.ttest_ind_from_stats(mean1=Means_norm1_t[i], std1=Vars_norm1_t[i], nobs1=T_norm1_t, \n",
    "                     mean2=Means_norm2_t[i], std2=Vars_norm2_t[i], \n",
    "                     nobs2=T_norm2_t, equal_var=True, alternative='two-sided').statistic\n",
    "    # pvalue\n",
    "    pvalue_t_equaldisp[i]=sps.ttest_ind_from_stats(mean1=Means_norm1_t[i], std1=Vars_norm1_t[i], nobs1=T_norm1_t,\n",
    "                     mean2=Means_norm2_t[i], std2=Vars_norm2_t[i], \n",
    "                     nobs2=T_norm2_t, equal_var=True, alternative='two-sided').pvalue\n",
    "# Статистический анализ - равные дисперсии\n",
    "alpha_t=0.1\n",
    "t_norm_stat_equaldisp=pval_stat1(pvalue_t_equaldisp,alpha_t)\n",
    "t_norm_stat_equaldisp        # частость принятия гипотезы в случае равных дисперсий"
   ]
  },
  {
   "cell_type": "code",
   "execution_count": 66,
   "id": "b8563df4-5cbd-4172-b13f-09d34e0ef264",
   "metadata": {},
   "outputs": [
    {
     "data": {
      "text/plain": [
       "0.5989"
      ]
     },
     "execution_count": 66,
     "metadata": {},
     "output_type": "execute_result"
    }
   ],
   "source": [
    "# ТЕСТ НА РАВЕНСТВО МАТЕМАТИЧЕСКИХ ОЖИДАНИЙ - РАЗЛИЧНЫЕ ДИСПЕРСИИ\n",
    "\n",
    "statistic_t_nonequaldisp=np.zeros(N_norm_t)\n",
    "pvalue_t_nonequaldisp=np.zeros(N_norm_t)\n",
    "for i in range(N_norm_t):\n",
    "    # статистика Стьюдента\n",
    "    statistic_t_nonequaldisp[i]=sps.ttest_ind_from_stats(mean1=Means_norm1_t[i], std1=Vars_norm1_t[i], nobs1=T_norm1_t, \n",
    "                     mean2=Means_norm2_t[i], std2=Vars_norm2_t[i], \n",
    "                     nobs2=T_norm2_t, equal_var=False, alternative='two-sided').statistic\n",
    "    # pvalue\n",
    "    pvalue_t_nonequaldisp[i]=sps.ttest_ind_from_stats(mean1=Means_norm1_t[i], std1=Vars_norm1_t[i], nobs1=T_norm1_t, \n",
    "                     mean2=Means_norm2_t[i], std2=Vars_norm2_t[i], \n",
    "                     nobs2=T_norm2_t, equal_var=False, alternative='two-sided').pvalue\n",
    "# Статистический анализ - равные дисперсии\n",
    "alpha_t=0.1\n",
    "t_norm_stat_nonequaldisp=pval_stat1(pvalue_t_nonequaldisp,alpha_t)\n",
    "t_norm_stat_nonequaldisp        # частость принятия гипотезы в случае равных дисперсий"
   ]
  },
  {
   "cell_type": "code",
   "execution_count": null,
   "id": "1c563728-cc76-445a-8f6f-49ecc018d2e7",
   "metadata": {},
   "outputs": [],
   "source": [
    "                                                         ГАММА-РАСПРЕДЕЛЕНИЕ"
   ]
  },
  {
   "cell_type": "code",
   "execution_count": 72,
   "id": "36fa5193-a5a3-4f60-8590-5806e42eda0e",
   "metadata": {},
   "outputs": [
    {
     "data": {
      "text/plain": [
       "94.23076923076925"
      ]
     },
     "execution_count": 72,
     "metadata": {},
     "output_type": "execute_result"
    }
   ],
   "source": [
    "# МОДЕЛИРУЕМЫЕ ПАРАМЕТРЫ\n",
    "\n",
    "# Дисперсии и матожидания\n",
    "alpha1_t=1                   \n",
    "alpha2_t=1.5\n",
    "\n",
    "# Длины выборок\n",
    "T_gamma1_t=50            \n",
    "T_gamma2_t=50\n",
    "\n",
    "#  Количество степеней свободы\n",
    "DF_gamma_t=(alpha1_t/T_gamma1_t+alpha2_t/T_gamma2_t)**2/(1/(T_gamma1_t-1)*(alpha1_t/T_gamma1_t)**2+1/(T_gamma2_t-1)*(alpha2_t/T_gamma2_t)**2)\n",
    "DF_gamma_t\n"
   ]
  },
  {
   "cell_type": "code",
   "execution_count": 73,
   "id": "34387095-dc87-4d98-b936-2752755c2298",
   "metadata": {},
   "outputs": [],
   "source": [
    "# БОЛЬШОЙ МАССИВ ВЫБОРОК С ОДИНАКОВЫМИ ДИСПЕРСИЯМИ\n",
    "\n",
    "N_gamma_t=10000         # Количество выборок\n",
    "ARRAY_GAMMA1_t=gamma_array(N=N_gamma_t,T=T_gamma1_t,alpha=alpha1_t,loc=0,scale=1)\n",
    "ARRAY_GAMMA2_t=gamma_array(N=N_gamma_t,T=T_gamma2_t,alpha=alpha2_t,loc=0,scale=1)\n",
    "\n",
    "Means_gamma1_t=np.mean(ARRAY_GAMMA1_t,axis=1)      # выборочные средние\n",
    "Means_gamma2_t=np.mean(ARRAY_GAMMA2_t,axis=1)\n",
    "Vars_gamma1_t=np.var(ARRAY_GAMMA1_t,axis=1)          # выборочные дисперсии\n",
    "Vars_gamma2_t=np.var(ARRAY_GAMMA2_t,axis=1)\n",
    "\n",
    "# t-статистика для тестирования гипотезы о равенстве средних\n",
    "t_gamma=(Means_gamma1_t-Means_gamma2_t)/(alpha1_t/T_gamma1_t+alpha2_t/T_gamma2_t)**0.5"
   ]
  },
  {
   "cell_type": "code",
   "execution_count": 74,
   "id": "a0d2a43e-5285-414c-b4f0-cab469ae7cca",
   "metadata": {},
   "outputs": [
    {
     "data": {
      "text/plain": [
       "<function matplotlib.pyplot.show(close=None, block=None)>"
      ]
     },
     "execution_count": 74,
     "metadata": {},
     "output_type": "execute_result"
    },
    {
     "data": {
      "image/png": "[encoded data removed]",
      "text/plain": [
       "<Figure size 640x480 with 1 Axes>"
      ]
     },
     "metadata": {},
     "output_type": "display_data"
    }
   ],
   "source": [
    "# ВИЗУАЛИЗАЦИЯ\n",
    "def fStudent_gamma(x):\n",
    "    return sps.t.pdf(x,df=DF_gamma_t,loc=0,scale=1)\n",
    "Empiric_density(data=t_gamma, number_breaks=round(N_gamma_t/200), F=[fStudent_gamma],colors=['r'],mindata=min(t_gamma), maxdata=max(t_gamma),MEAN=True)"
   ]
  },
  {
   "cell_type": "code",
   "execution_count": 75,
   "id": "1e1a11e2-3bba-4f0c-9c3e-deffeca2b7d0",
   "metadata": {},
   "outputs": [
    {
     "data": {
      "text/plain": [
       "0.0"
      ]
     },
     "execution_count": 75,
     "metadata": {},
     "output_type": "execute_result"
    }
   ],
   "source": [
    "# ТЕСТ НА РАВЕНСТВО МАТЕМАТИЧЕСКИХ ОЖИДАНИЙ\n",
    "\n",
    "alpha_t=0.1\n",
    "STATISTIC_t=np.zeros(N_gamma_t)\n",
    "PVALUE_t=np.zeros(N_gamma_t)\n",
    "RESULT_t=np.zeros(N_gamma_t)\n",
    "for i in range(N_gamma_t):\n",
    "    STATISTIC_t[i]=sps.ttest_ind_from_stats(mean1=Means_gamma1_t[1], std1=Vars_gamma1_t[1], nobs1=T_gamma1_t, mean2=Means_gamma2_t[1], \n",
    "                                            std2=Vars_gamma2_t[1], nobs2=T_gamma2_t, equal_var=False, alternative='two-sided').statistic\n",
    "    PVALUE_t[i]=sps.ttest_ind_from_stats(mean1=Means_gamma1_t[1], std1=Vars_gamma1_t[1], nobs1=T_gamma1_t, mean2=Means_gamma2_t[1], \n",
    "                                         std2=Vars_gamma2_t[1], nobs2=T_gamma2_t, equal_var=False, alternative='two-sided').pvalue\n",
    "# Статистический анализ\n",
    "t_gamma_stat=pval_stat1(PVALUE_t,alpha_t)\n",
    "t_gamma_stat                    # частость принятия гипотезы в случае равных дисперсий\n"
   ]
  },
  {
   "cell_type": "code",
   "execution_count": 76,
   "id": "88aae785-5008-4f3d-86d3-74fc9fc6a938",
   "metadata": {},
   "outputs": [
    {
     "data": {
      "text/plain": [
       "array([0.07184922, 0.07184922, 0.07184922, ..., 0.07184922, 0.07184922,\n",
       "       0.07184922])"
      ]
     },
     "execution_count": 76,
     "metadata": {},
     "output_type": "execute_result"
    }
   ],
   "source": [
    "PVALUE_t"
   ]
  },
  {
   "cell_type": "code",
   "execution_count": null,
   "id": "38fea7a3-bded-4e90-ab71-7c4d7cf00b4b",
   "metadata": {},
   "outputs": [],
   "source": []
  },
  {
   "cell_type": "markdown",
   "id": "5b44fbba-7249-40f2-899a-6b0342e0ef17",
   "metadata": {},
   "source": [
    "                                                  ЭКСПЕРИМЕНТЫ С РЕАЛЬНЫМИ ДАННЫМИ"
   ]
  },
  {
   "cell_type": "code",
   "execution_count": null,
   "id": "6fd57ae2-aef6-4398-b7f0-abafd73f7707",
   "metadata": {},
   "outputs": [],
   "source": [
    "DJ=pyreadr.read_r(\"C:\\\\Users\\\\baputko\\\\Downloads\\\\DJ_COMPONENTS.RData\")         #  словарь, полученный из данных R\n",
    "CLOSE_DAILY_DJ=DJ['CLOSE_DAILY']                                        #  DataFrame цен, полученная по выбору ключа словаря\n",
    "PRICES_DJ=CLOSE_DAILY_DJ.to_numpy()                                     #  np-array цен\n",
    "RET_DJ=np.diff(np.log(PRICES_DJ),axis=0)                                #  Доходности\n",
    "CLOSE_DAILY_DJ"
   ]
  },
  {
   "cell_type": "markdown",
   "id": "95a18ff7-97ff-492c-8eb8-71ffafbffeb4",
   "metadata": {},
   "source": [
    "                                                          Тест Колмогорова-Смирнова"
   ]
  },
  {
   "cell_type": "code",
   "execution_count": null,
   "id": "ee842546-2bbb-427b-93cb-174344f5cf54",
   "metadata": {},
   "outputs": [],
   "source": [
    "T_RET=100\n",
    "RET_DJ_SUBS=subsamples_array(RET_DJ,T=T_RET,frombegin=True,axis=0)\n",
    "RET_DJ_SUBS.shape"
   ]
  },
  {
   "cell_type": "code",
   "execution_count": null,
   "id": "2dc256b7-559b-4795-8d64-196d093a33bc",
   "metadata": {},
   "outputs": [],
   "source": [
    "RET_KS=np.zeros([RET_DJ_SUBS.shape[0],RET_DJ_SUBS.shape[2]])\n",
    "for k in range(RET_DJ_SUBS.shape[0]):\n",
    "    for j in range(RET_DJ_SUBS.shape[2]):\n",
    "        RET_KS[k,j]=sps.ks_2samp(RET_DJ_SUBS[k,0:round(T_RET/2),j],RET_DJ_SUBS[k,round(T_RET/2):T_RET,j]).pvalue\n",
    "pd_RET_KS=pd.DataFrame(RET_KS)\n",
    "pd_RET_KS.columns=CLOSE_DAILY_DJ.columns\n",
    "pd_RET_KS"
   ]
  },
  {
   "cell_type": "code",
   "execution_count": null,
   "id": "25349db1-1a96-484d-8b22-71614044f9ee",
   "metadata": {},
   "outputs": [],
   "source": [
    "KS_ret_stat=pval_stat2(RET_KS,alpha_t,axis=0)\n",
    "KS_ret_stat                    # частость принятия гипотезы \n"
   ]
  },
  {
   "cell_type": "code",
   "execution_count": null,
   "id": "79b250b9-b8b5-46d8-b019-bf55be79b6b2",
   "metadata": {},
   "outputs": [],
   "source": [
    "m=1\n",
    "data=RET_DJ_SUBS[:,:,1]\n",
    " mean1[i]=np.mean(data[i,0:50])\n",
    "    mean2[i]=np.mean(data[i,50:100])\n",
    "    std1[i]=np.std(data[i,0:50])\n",
    "    std2[i]=np.std(data[i,50:100])\n",
    "data\n",
    "for i in range(data.shape[0]):\n",
    "    mean1[i]=np.mean(data[i,0:50])\n",
    "    mean2[i]=np.mean(data[i,50:100])\n",
    "    std1[i]=np.std(data[i,0:50])\n",
    "    std2[i]=np.std(data[i,50:100])"
   ]
  },
  {
   "cell_type": "code",
   "execution_count": null,
   "id": "81994e88",
   "metadata": {},
   "outputs": [],
   "source": []
  }
 ],
 "metadata": {
  "kernelspec": {
   "display_name": "Python 3 (ipykernel)",
   "language": "python",
   "name": "python3"
  },
  "language_info": {
   "codemirror_mode": {
    "name": "ipython",
    "version": 3
   },
   "file_extension": ".py",
   "mimetype": "text/x-python",
   "name": "python",
   "nbconvert_exporter": "python",
   "pygments_lexer": "ipython3",
   "version": "3.10.6"
  }
 },
 "nbformat": 4,
 "nbformat_minor": 5
}
